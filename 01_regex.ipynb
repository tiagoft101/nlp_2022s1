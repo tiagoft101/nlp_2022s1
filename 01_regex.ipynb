{
 "cells": [
  {
   "cell_type": "markdown",
   "metadata": {},
   "source": [
    "# Reconhecendo padrões\n",
    "\n",
    "Bibliografia:\n",
    "* Teoria: Chomsky, N, \"On Certain Formal Properties of Grammars\" INFORMATION AND CONTROL 9., 137-167 (1959) (https://somr.info/lib/Chomsky_1959.pdf)\n"
   ]
  },
  {
   "cell_type": "markdown",
   "metadata": {},
   "source": [
    "## Uma máquina de estados finitos\n",
    "\n",
    "![Diagrama de Bolha](diagrama_bolha.png \"Diagrama de Bolha\")"
   ]
  },
  {
   "cell_type": "code",
   "execution_count": 31,
   "metadata": {},
   "outputs": [],
   "source": [
    "class UmaMaquinaDeEstadosSimples:\n",
    "    def __init__(self):\n",
    "        self.estado = 0\n",
    "    \n",
    "    def ler_caractere(self, caractere):\n",
    "        print(\"No estado \" + str(self.estado) + \" recebi o caractere \" + caractere)\n",
    "        if self.estado==0:\n",
    "            if caractere == 'a':\n",
    "                self.estado = 1\n",
    "            else:\n",
    "                self.estado = 0\n",
    "        \n",
    "        elif self.estado == 1:\n",
    "            if caractere == 'a':\n",
    "                self.estado = 1\n",
    "            else:\n",
    "                self.estado = 0\n",
    "        print(\"Fui para o estado \" + str(self.estado))\n",
    "\n",
    "    def finalizar(self):\n",
    "        if self.estado == 1:\n",
    "            return 'ACEITO'\n",
    "        else:\n",
    "            return 'REJEITO'"
   ]
  },
  {
   "cell_type": "code",
   "execution_count": 32,
   "metadata": {},
   "outputs": [
    {
     "name": "stdout",
     "output_type": "stream",
     "text": [
      "No estado 0 recebi o caractere a\n",
      "Fui para o estado 1\n",
      "No estado 1 recebi o caractere b\n",
      "Fui para o estado 0\n",
      "No estado 0 recebi o caractere b\n",
      "Fui para o estado 0\n",
      "No estado 0 recebi o caractere a\n",
      "Fui para o estado 1\n",
      "No estado 1 recebi o caractere a\n",
      "Fui para o estado 1\n",
      "ACEITO\n"
     ]
    }
   ],
   "source": [
    "minha_string = 'abbaa'\n",
    "maquina = UmaMaquinaDeEstadosSimples()\n",
    "for n in range(len(minha_string)):\n",
    "    maquina.ler_caractere(minha_string[n])\n",
    "print(maquina.finalizar())"
   ]
  },
  {
   "cell_type": "code",
   "execution_count": 29,
   "metadata": {},
   "outputs": [],
   "source": [
    "class UmaMaquinaDeEstados:\n",
    "    def __init__(self):\n",
    "        self.estado = 0\n",
    "    \n",
    "    def ler_caractere(self, caractere):\n",
    "        if self.estado==0:\n",
    "            if caractere == 'a':\n",
    "                self.estado = 1\n",
    "            elif caractere == 'b':\n",
    "                self.estado = 0\n",
    "            else:\n",
    "                self.estado = 2\n",
    "        \n",
    "        elif self.estado == 1:\n",
    "            if caractere == 'a':\n",
    "                self.estado = 0\n",
    "            elif caractere == 'b':\n",
    "                self.estado = 1\n",
    "            else:\n",
    "                self.estado = 2\n",
    "\n",
    "    def finalizar(self):\n",
    "        if self.estado == 1:\n",
    "            return 'ACEITO'\n",
    "        else:\n",
    "            return 'REJEITO'"
   ]
  },
  {
   "cell_type": "code",
   "execution_count": 30,
   "metadata": {},
   "outputs": [
    {
     "name": "stdout",
     "output_type": "stream",
     "text": [
      "No estado 0 recebi o caractere a\n",
      "Fui para o estado 1\n",
      "No estado 1 recebi o caractere b\n",
      "Fui para o estado 1\n",
      "No estado 1 recebi o caractere b\n",
      "Fui para o estado 1\n",
      "No estado 1 recebi o caractere a\n",
      "Fui para o estado 0\n",
      "No estado 0 recebi o caractere a\n",
      "Fui para o estado 1\n",
      "ACEITO\n"
     ]
    }
   ],
   "source": [
    "minha_string = 'abbaa'\n",
    "maquina = UmaMaquinaDeEstados()\n",
    "for n in range(len(minha_string)):\n",
    "    maquina.ler_caractere(minha_string[n])\n",
    "print(maquina.finalizar())"
   ]
  },
  {
   "cell_type": "markdown",
   "metadata": {},
   "source": [
    "![Diagrama de Bolha](diagrama_bolha_completar.png \"Diagrama de Bolha\")"
   ]
  },
  {
   "cell_type": "code",
   "execution_count": 22,
   "metadata": {},
   "outputs": [],
   "source": [
    "class ReconhecedorDeGerundismos:\n",
    "    def __init__(self):\n",
    "        self.estado = 0\n",
    "    \n",
    "    def ler_caractere(self, caractere):\n",
    "        if self.estado==0:\n",
    "            if caractere == 'n':\n",
    "                self.estado = 1\n",
    "            else:\n",
    "                self.estado = 0\n",
    "        \n",
    "        elif self.estado==1:\n",
    "            if caractere == 'd':\n",
    "                self.estado = 2\n",
    "            else:\n",
    "                self.estado = 0\n",
    "        \n",
    "        elif self.estado==2:\n",
    "            if caractere == 'o':\n",
    "                self.estado = 3\n",
    "            else:\n",
    "                self.estado = 0\n",
    "        \n",
    "        elif self.estado==3:\n",
    "            self.estado=0\n",
    "\n",
    "    def finalizar(self):\n",
    "        if self.estado == 3:\n",
    "            return 'ACEITO'\n",
    "        else:\n",
    "            return 'REJEITO'"
   ]
  },
  {
   "cell_type": "code",
   "execution_count": 27,
   "metadata": {},
   "outputs": [
    {
     "name": "stdout",
     "output_type": "stream",
     "text": [
      "ACEITO\n"
     ]
    }
   ],
   "source": [
    "minha_string = 'tentando'\n",
    "maquina = ReconhecedorDeGerundismos()\n",
    "for n in range(len(minha_string)):\n",
    "    maquina.ler_caractere(minha_string[n])\n",
    "print(maquina.finalizar())"
   ]
  },
  {
   "cell_type": "markdown",
   "metadata": {},
   "source": [
    "* Reconhecer inteiros\n",
    "* Reconhecer inteiros pares\n",
    "* Reconhecer ponto flutuante\n",
    "* Uma palavra qualquer escrita em português\n",
    "* Reconhecer placas de carro (das antigas: três letras + 4 números)"
   ]
  },
  {
   "cell_type": "code",
   "execution_count": 30,
   "metadata": {},
   "outputs": [
    {
     "name": "stdout",
     "output_type": "stream",
     "text": [
      "<re.Match object; span=(0, 2), match='SP'>\n"
     ]
    }
   ],
   "source": [
    "import re\n",
    "\n",
    "m = re.fullmatch(r\"SP|MG|ES|RJ\", 'SP')\n",
    "print(m)"
   ]
  },
  {
   "cell_type": "code",
   "execution_count": null,
   "metadata": {},
   "outputs": [],
   "source": []
  }
 ],
 "metadata": {
  "interpreter": {
   "hash": "b3ba2566441a7c06988d0923437866b63cedc61552a5af99d1f4fb67d367b25f"
  },
  "kernelspec": {
   "display_name": "Python 3.9.7 64-bit ('base': conda)",
   "language": "python",
   "name": "python3"
  },
  "language_info": {
   "codemirror_mode": {
    "name": "ipython",
    "version": 3
   },
   "file_extension": ".py",
   "mimetype": "text/x-python",
   "name": "python",
   "nbconvert_exporter": "python",
   "pygments_lexer": "ipython3",
   "version": "3.9.7"
  },
  "orig_nbformat": 4
 },
 "nbformat": 4,
 "nbformat_minor": 2
}
