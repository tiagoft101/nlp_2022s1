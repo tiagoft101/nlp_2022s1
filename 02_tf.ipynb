{
 "cells": [
  {
   "cell_type": "code",
   "execution_count": null,
   "metadata": {},
   "outputs": [],
   "source": [
    "import urllib\n",
    "url = \"https://www.gutenberg.org/cache/epub/3333/pg3333.txt\" # Os Lusíadas (Camões)\n",
    "texto = urllib.request.urlopen(url).read()\n",
    "print(texto[1000:2000])\n"
   ]
  },
  {
   "cell_type": "code",
   "execution_count": null,
   "metadata": {},
   "outputs": [],
   "source": [
    "import urllib\n",
    "url = \"https://www.gutenberg.org/cache/epub/3333/pg3333.txt\" # Os Lusíadas (Camões)\n",
    "texto = urllib.request.urlopen(url).read().decode()\n",
    "print(texto[1000:2000])"
   ]
  },
  {
   "cell_type": "code",
   "execution_count": null,
   "metadata": {},
   "outputs": [],
   "source": [
    "import re\n",
    "a = re.fullmatch(\"\\w+\", '5')\n",
    "print(a)\n",
    "a = re.fullmatch(\"\\w+\", 'dai-me')\n",
    "print(a)"
   ]
  },
  {
   "cell_type": "code",
   "execution_count": null,
   "metadata": {},
   "outputs": [],
   "source": [
    "import re\n",
    "s = re.split(\"\\s+\", texto)\n",
    "print(s)"
   ]
  },
  {
   "cell_type": "code",
   "execution_count": null,
   "metadata": {},
   "outputs": [],
   "source": [
    "import re\n",
    "texto = \"Postule-se, têmpera doze átomo, diga-me o que há. 95? Doze!\"\n",
    "s = re.findall(r\"[^\\s\\d,.!?:]+\", texto)\n",
    "\n",
    "\n",
    "print(s)"
   ]
  },
  {
   "cell_type": "code",
   "execution_count": null,
   "metadata": {},
   "outputs": [],
   "source": []
  },
  {
   "cell_type": "code",
   "execution_count": null,
   "metadata": {},
   "outputs": [],
   "source": [
    "def contar1(s):\n",
    "    ja_contei = []\n",
    "    contagem = []\n",
    "    for w in s:\n",
    "        idx = ja_contei.index(w)\n",
    "        if idx >= 0:\n",
    "            contagem[idx] += 1\n",
    "        else:\n",
    "            ja_contei.append(w)\n",
    "            contagem.append(1)\n",
    "    return ja_contei, contagem\n",
    "\n",
    "def contar2(s):\n",
    "    contagem = dict()\n",
    "    for w in s:\n",
    "        if w in contagem.keys():\n",
    "            contagem[w] += 1\n",
    "        else:\n",
    "            contagem[w] = 1\n",
    "    return contagem\n",
    "\n",
    "\n"
   ]
  },
  {
   "cell_type": "code",
   "execution_count": null,
   "metadata": {},
   "outputs": [],
   "source": [
    "url = \"https://www.gutenberg.org/cache/epub/3333/pg3333.txt\" # Os Lusíadas (Camões)\n",
    "texto = urllib.request.urlopen(url).read().decode()"
   ]
  },
  {
   "cell_type": "code",
   "execution_count": null,
   "metadata": {},
   "outputs": [],
   "source": [
    "s = re.findall(\"[^\\s\\d,.;?!]+\", texto)\n",
    "s = [w.lower() for w in s]"
   ]
  },
  {
   "cell_type": "code",
   "execution_count": null,
   "metadata": {},
   "outputs": [],
   "source": [
    "print(len(s))\n",
    "print(len(set(s)))\n",
    "print (s[10:30])"
   ]
  },
  {
   "cell_type": "code",
   "execution_count": null,
   "metadata": {},
   "outputs": [],
   "source": [
    "contagem = contar2(s)"
   ]
  },
  {
   "cell_type": "code",
   "execution_count": null,
   "metadata": {},
   "outputs": [],
   "source": [
    "tf = []\n",
    "for i in contagem.keys():\n",
    "    tf.append( (contagem[i],i) )\n",
    "tf = sorted(tf, reverse=True)\n",
    "print(tf[0:20])"
   ]
  },
  {
   "cell_type": "code",
   "execution_count": null,
   "metadata": {},
   "outputs": [],
   "source": [
    "url_sw = \"https://gist.github.com/alopes/5358189#file-stopwords-txt\"\n",
    "stopwords = urllib.request.urlopen(url_sw).read().decode().split()\n",
    "stopwords = set(stopwords)"
   ]
  },
  {
   "cell_type": "code",
   "execution_count": null,
   "metadata": {},
   "outputs": [],
   "source": [
    "s = re.findall(\"[^\\s\\d,.;?!]+\", texto)\n",
    "#s = re.findall(\"[^\\W\\d]+\", texto)\n",
    "s = [w.lower() for w in s if w.lower() not in stopwords]\n",
    "contagem = contar2(s)\n",
    "tf = []\n",
    "for i in contagem.keys():\n",
    "    tf.append( (contagem[i],i) )\n",
    "tf = sorted(tf, reverse=True)\n",
    "print(tf[0:20])"
   ]
  },
  {
   "cell_type": "code",
   "execution_count": null,
   "metadata": {},
   "outputs": [],
   "source": []
  },
  {
   "cell_type": "code",
   "execution_count": null,
   "metadata": {},
   "outputs": [],
   "source": []
  }
 ],
 "metadata": {
  "interpreter": {
   "hash": "b3ba2566441a7c06988d0923437866b63cedc61552a5af99d1f4fb67d367b25f"
  },
  "kernelspec": {
   "display_name": "Python 3.9.7 64-bit ('base': conda)",
   "language": "python",
   "name": "python3"
  },
  "language_info": {
   "codemirror_mode": {
    "name": "ipython",
    "version": 3
   },
   "file_extension": ".py",
   "mimetype": "text/x-python",
   "name": "python",
   "nbconvert_exporter": "python",
   "pygments_lexer": "ipython3",
   "version": "3.9.7"
  },
  "orig_nbformat": 4
 },
 "nbformat": 4,
 "nbformat_minor": 2
}
