{
 "cells": [
  {
   "cell_type": "code",
   "execution_count": null,
   "metadata": {},
   "outputs": [],
   "source": [
    "import matplotlib.pyplot as plt\n",
    "plt.style.use('default')\n",
    "import numpy as np\n",
    "import re\n",
    "import nltk"
   ]
  },
  {
   "cell_type": "markdown",
   "metadata": {},
   "source": [
    "# Aula 9: Análise Sintática\n",
    "**Objetivo da aula**: ao fim desta aula, o aluno será capaz de desenhar gramáticas para a construção de árvores sintáticas em linguagem natural para acessar texto semanticamente\n",
    "\n",
    "**AVISO IMPORTANTE**\n",
    "Nesta aula, estou assumindo que todos os alunos já usaram gramáticas livres de contexto para fazer parsing e análise sintática em um contexto de disciplina de compiladores. Se você não faz ideia do que é uma gramática livre de contexto e um parser, use um dos muitos recursos online para estudar antes da aula. Algumas possibilidades para começar sua busca são [esta](https://www.geeksforgeeks.org/classification-of-context-free-grammars/) e [esta](https://en.wikipedia.org/wiki/Context-free_grammar).\n"
   ]
  },
  {
   "cell_type": "markdown",
   "metadata": {},
   "source": [
    "# Exercício 1\n",
    "*Objetivo: lembrar-se do que é uma gramática livre de contexto e uma árvore sintática*\n",
    "\n",
    "Numa gramática livre de contexto arbitrária, temos as seguintes regras de produção:\n",
    "* S -> A B\n",
    "* A -> A A\n",
    "* A -> a\n",
    "* B -> A B C\n",
    "* B -> b\n",
    "* C -> c\n",
    "\n",
    "1. Mostre a árvore sintática que gera a string `a a a b c`\n",
    "1. A string `a b c` pode ser gerada por essa gramática?\n",
    "\n"
   ]
  },
  {
   "cell_type": "markdown",
   "metadata": {},
   "source": [
    "# Exercício 2\n",
    "*Objetivo: lembrar-se do que é sujeito, objeto e predicado*\n",
    "\n",
    "Na frase: “o lobo soprou a casa”, encontre o sujeito, o verbo, o predicado e o objeto. Como essas estruturas se organizam entre si?"
   ]
  },
  {
   "cell_type": "markdown",
   "metadata": {},
   "source": [
    "# Exercício 3\n",
    "*Objetivo: aplicar o conceito de gramática de substituições para compor uma frase em português*\n",
    "\n",
    "Uma gramática de substituições funciona da seguinte forma:\n",
    "Partimos de uma string de símbolos que contém somente uma raiz (geralmente é chamada de S, mas aqui chamaremos de FRASE.\n",
    "Temos uma série de regras que nos permitem substituir um dos símbolos por outro ou outros. Por exemplo, podemos ter:\n",
    "* FRASE -> SUJEITO PREDICADO\n",
    "* FRASE -> PREDICADO SUJEITO\n",
    "Quando temos mais de uma regra, podemos gerar frases com qualquer uma delas.\n",
    "Por exemplo, nosso símbolo FRASE poderia ter sido substituído por dois símbolos: \n",
    "`SUJEITO PREDICADO`\n",
    "\n",
    "Daí, temos mais e mais regras:\n",
    "* SUJEITO -> ARTIGO SUBSTANTIVO\n",
    "* SUJEITO -> SUBSTANTIVO\n",
    "* SUBSTANTIVO -> ‘lobo’\n",
    "* ARTIGO -> ‘o’\n",
    "\n",
    "1. Quais regras seriam necessárias para montar a frase “o lobo soprou a casa”, de forma que obrigatoriamente passamos por construções como sujeito, predicado e objeto?\n",
    "1. Aplique as regras que você construiu (ou seja, a gramática) para montar a árvore sintática que permite analisar a frase “o lobo soprou a casa”."
   ]
  },
  {
   "cell_type": "markdown",
   "metadata": {},
   "source": [
    "# Exercício 4\n",
    "**Objetivo: fazer parsing usando as ferramentas do NLTK**\n",
    "\n",
    "Parsing é o processo que constrói a árvore sintática que gera uma frase, à partir de uma gramátca.\n",
    "\n",
    "Para fazer parsing, precisamos de (i) definir uma gramática e (ii) definir um algoritmo para fazer parsing.\n",
    "\n",
    "1. Como definimos nossa gramática para o NLTK? Como ela se compara com aquela que você definiu no exercício anterior?\n",
    "1. Como passamos nossa gramática escrita como string para um formato acessível pelas ferramentas do NLTK? Que tipo de objeto é usado para isso?\n",
    "1. Como definimos qual será o algoritmo a ser usado no processo de parsing?\n",
    "1. Econtre o trecho em que executamos o algoritmo propriamente dito e imprimimos a árvore sintática. Como essa árvore se compara com a que você construiu no exercício 2?\n",
    "1. Modifique o código para que ele imprima diretamente a árvore sintática, ao invés de usar o método `pretty_print()`. Que estruturas de dados são usadas para representar a árvore em Python?\n",
    "\n"
   ]
  },
  {
   "cell_type": "code",
   "execution_count": null,
   "metadata": {},
   "outputs": [],
   "source": [
    "gramatica = \"\"\"\n",
    "FRASE -> SUJEITO PREDICADO\n",
    "SUJEITO -> ENTIDADE\n",
    "PREDICADO -> V OBJETO\n",
    "OBJETO -> ENTIDADE\n",
    "ENTIDADE -> ART N\n",
    "ART -> 'o' | 'a'\n",
    "N -> 'lobo'\n",
    "N -> 'casa'\n",
    "V -> 'soprou'\n",
    "\"\"\""
   ]
  },
  {
   "cell_type": "code",
   "execution_count": null,
   "metadata": {},
   "outputs": [],
   "source": [
    "from nltk import CFG\n",
    "from nltk.parse import RecursiveDescentParser\n",
    "\n",
    "grammar = CFG.fromstring(gramatica)\n",
    "parser = RecursiveDescentParser(grammar, trace=0)\n",
    "print(parser.grammar())"
   ]
  },
  {
   "cell_type": "code",
   "execution_count": null,
   "metadata": {},
   "outputs": [],
   "source": [
    "for p in parser.parse(\"o lobo soprou a casa\".split()):\n",
    " #   print(p)\n",
    "    p.pretty_print()"
   ]
  },
  {
   "cell_type": "markdown",
   "metadata": {},
   "source": [
    "# Exercício 5\n",
    "*Objetivo: relacionar a análise sintática com perguntas sobre o conteúdo do texto*\n",
    "\n",
    "Em uma frase que tem um sujeito, um verbo na voz ativa e um objeto (use a frase “o lobo soprou a casa” como exemplo), referencie construções sintáticas para responder:\n",
    "\n",
    "1. Como podemos saber quem é o sujeito?\n",
    "1. Quem realizou a ação descrita no verbo?\n",
    "1. Como podemos saber o que o sujeito fez?\n",
    "1. Sobre quem o sujeito aplicou a ação descrita no verbo?\n"
   ]
  },
  {
   "cell_type": "markdown",
   "metadata": {},
   "source": [
    "# Exercício 6\n",
    "*Objetivo: navegar pela árvore sintática gerada pelo parser para responder perguntas quanto ao conteúdo do texto*\n",
    "\n",
    "O código abaixo busca responder à pergunta: “quem soprou a casa”.\n",
    "1. Qual é a ideia subjacente que usamos para responder à pergunta?\n",
    "1. Como podemos encontrar o sujeito da frase?\n",
    "1. Seguindo essa mesma ideia, escreva o trecho de código que permita responder automaticamente às perguntas: “o que o lobo fez?” e “o que o lobo soprou?”.\n",
    "1. Modifique a gramática e o código para gerar um sistema que analisa a frase: \"o jogador chutou a bola\" e seja capaz de responder a perguntas equivalentes sobre a frase."
   ]
  },
  {
   "cell_type": "code",
   "execution_count": null,
   "metadata": {},
   "outputs": [],
   "source": [
    "# Pergunta: quem soprou a casa?\n",
    "trees = []\n",
    "for t in parser.parse(\"o lobo soprou a casa\".split()):\n",
    "    trees.append(t)\n",
    "\n",
    "\n",
    "for subtree in trees[0].subtrees(): # Generate all subtrees\n",
    "    if subtree.label()=='SUJEITO':\n",
    "        print(subtree.leaves())\n",
    "\n",
    "# Pergunta: o que o lobo fez?\n",
    "\n",
    "# Pergunta: o que o lobo soprou?\n"
   ]
  },
  {
   "cell_type": "code",
   "execution_count": null,
   "metadata": {},
   "outputs": [],
   "source": []
  },
  {
   "cell_type": "markdown",
   "metadata": {},
   "source": []
  },
  {
   "cell_type": "markdown",
   "metadata": {},
   "source": [
    "# Exercício 6\n",
    "*Objetivo: entender como gramáticas livres de contexto probabilísticas podem ajudar a resolver ambiguidades*\n",
    "\n",
    "Em português, podemos ter várias inversões sintáticas. Por exemplo: “ouviram do Ipiranga as margens plácidas” é gramaticalmente válido, assim como “as margens plácidas do Ipiranga ouviram”. Isso não significa, porém, que todas as variações de colocações sejam igualmente prováveis. Por exemplo: na linguagem cotidiana, é muito mais comum termos:\n",
    "* FRASE -> SUJEITO PREDICADO\n",
    "* PREDICADO -> VERBO OBJETO\n",
    "que\n",
    "* FRASE -> PREDICADO SUJEITO\n",
    "* PREDICADO -> OBJETO VERBO\n",
    "Ou seja: \n",
    "\n",
    "“Carlos viajou para o Caribe”\n",
    "\n",
    "É bem mais comum que\n",
    "\n",
    "“Para o Caribe viajou Carlos”\n",
    "\n",
    "Podemos resolver esse tipo de ambiguidade de forma computacional, atribuindo probabilidades às produções de uma gramática. O código abaixo resolve essa ambiguidade atribuindo probabilidades às produções de uma gramática.\n",
    "\n",
    "1. Qual é a ambiguidade sintática que temos na frase “ele entrou na loja de calças”?\n",
    "1. Quais regras de produção da gramática modelam essa ambiguidade?\n",
    "1. Quais foram as árvores sintáticas geradas? Qual é a probabilidade de cada uma delas ter sido gerada pela gramática?\n",
    "1. De acordo com nossa gramática, qual é a interpretação mais provável para esta frase?\n",
    "1. Modifique a gramática de forma a inverter qual é a interpretação mais provável da frase.\n",
    "\n"
   ]
  },
  {
   "cell_type": "code",
   "execution_count": null,
   "metadata": {},
   "outputs": [],
   "source": [
    "from nltk import PCFG\n",
    "from nltk.parse import InsideChartParser    \n",
    "\n",
    "\n",
    "gramatica = \"\"\"\n",
    "FRASE -> SUJEITO PREDICADO [1]\n",
    "SUJEITO -> ENTIDADE [1]\n",
    "PREDICADO -> V OBJETO [0.5] | V OBJETO ADV [0.5]\n",
    "OBJETO -> ENTIDADE [0.5] | PREP_ART ENTIDADE [0.5]\n",
    "ADV -> PREP ENTIDADE [1]\n",
    "ENTIDADE -> N [0.25] | PROPESS [0.25] | N ADJ [0.5]\n",
    "ADJ -> PREP N [1]\n",
    "PROPESS -> 'ele' [1]\n",
    "V -> 'entrou' [1]\n",
    "PREP_ART -> 'na' [1]\n",
    "N -> 'loja' [0.5]\n",
    "PREP -> 'de' [1]\n",
    "N -> 'calças' [0.5]\n",
    "\"\"\"\n",
    "\n",
    "grammar = PCFG.fromstring(gramatica)\n",
    "parser = InsideChartParser(grammar, trace=0)\n",
    "print(parser.grammar())"
   ]
  },
  {
   "cell_type": "code",
   "execution_count": null,
   "metadata": {},
   "outputs": [],
   "source": [
    "for p in parser.parse(\"ele entrou na loja de calças\".split()):\n",
    "    p.pretty_print()\n",
    "    print(\"Probability:\", p.prob())"
   ]
  },
  {
   "cell_type": "markdown",
   "metadata": {},
   "source": [
    "# Exercício 7\n",
    "*Objetivo: relacionar os nós-folhas da árvore sintática a PoS-tagging*\n",
    "\n",
    "A passagem para os nós-folha das árvores sintáticas que fizemos até o momento, na verdade, aplica uma funcionalidade que já conhecemos bem.\n",
    "\n",
    "Qual é essa funcionalidade?"
   ]
  },
  {
   "cell_type": "markdown",
   "metadata": {},
   "source": [
    "# Exercício 9\n",
    "*Objetivo: usar uma estratégia de parsing baseada em expressões regulares*\n",
    "\n",
    "Uma outra estratégia de Parsing é definir expressões regulares baseadas em PoS tags. Veja o exemplo no código abaixo.\n",
    "\n",
    "1. Para que usamos o corpus Macmorpho?\n",
    "1. Como agrupamos PoS tags?\n",
    "1. Consulte a documentação do NLTK. Como a sintaxe de expressões regulares é usada pelo RegexParser?\n",
    "1. Qual das expressões regulares é equivalente à produção “ENTIDADE -> ART N”?\n",
    "1. Como a árvore sintática gerada se compara com as árvores geradas anteriormente?\n",
    "1. Em que ordem as regras das expressões regulares são aplicadas?\n",
    "1. O que acontece se encontrarmos alguma situação que não é contemplada por uma regra?\n",
    "1. Modifique o código para que ele deixe de montar uma árvore sintática completa e somente encontre as entidades (artigo ou preposição + substantivo) presentes na frase de entrada.\n",
    "1. Modifique a sua definição de entidades para que ela funcione na frase “O Rio de Janeiro continua lindo”.\n",
    "1. A estratégia de parsing com expressões regulares é altamente dependente de uma etapa anterior. Que etapa é essa, e quão frágil é o parsing em relação a erros nessa etapa?\n",
    "\n"
   ]
  },
  {
   "cell_type": "code",
   "execution_count": null,
   "metadata": {},
   "outputs": [],
   "source": [
    "# Carregar o corpus e pré-processar\n",
    "s = open('./datasets/macmorpho-train.txt', 'r', encoding='utf-8').read()\n",
    "s = re.split(r'\\.+_PU', s)\n",
    "s = [s0.strip() for s0 in s]\n",
    "s = [re.split('\\s+', s0) for s0 in s]\n",
    "s = [ [ tuple(re.split('_', w0)) for w0 in p] for p in s]\n",
    "s = [ [ w for w in p if len(w)==2 ] for p in s ] \n",
    "s = [ [ (w[0].lower(), w[1]) for w in p] for p in s ]\n",
    "s = [p for p in s if len(p)>5]      \n",
    "# s[frase][palavra] = (palavra, tipo)\n",
    "#print(s[0:2])"
   ]
  },
  {
   "cell_type": "code",
   "execution_count": null,
   "metadata": {},
   "outputs": [],
   "source": [
    "from nltk.tag import NgramTagger, DefaultTagger\n",
    "taggers = []\n",
    "taggers.append(DefaultTagger('N'))\n",
    "\n",
    "for n in range(3):\n",
    "    taggers.append(NgramTagger(n+1, s, backoff=taggers[-1]))"
   ]
  },
  {
   "cell_type": "code",
   "execution_count": null,
   "metadata": {},
   "outputs": [],
   "source": [
    "pos = taggers[-1].tag(\"o porquinho fugiu para a fazenda\".split())\n",
    "print(pos)"
   ]
  },
  {
   "cell_type": "code",
   "execution_count": null,
   "metadata": {},
   "outputs": [],
   "source": [
    "gramatica = ('''\n",
    "    ENTIDADE: {<ART><N>}\n",
    "    PREDICADO: {<V><PREP>?<ENTIDADE>}\n",
    "    SUJEITO: {<ENTIDADE>}\n",
    "    FRASE: {<SUJEITO><PREDICADO>}\n",
    "    ''')\n",
    "parser = nltk.RegexpParser(gramatica)\n",
    "#print(parser)\n",
    "for p in parser.parse(pos):\n",
    "    print(p.pretty_print())\n"
   ]
  },
  {
   "cell_type": "markdown",
   "metadata": {},
   "source": [
    "# Exercício 10\n",
    "*Objetivo: aplicar chunking para caracterizar personagens em um texto*\n",
    "\n",
    "Na língua, usamos pronomes de tratamento para especificar a posição social da pessoa à qual nos referimos. A importância disso é diferente em cada sociedade e em cada situação. Na língua inglesa, por exemplo, usamos:\n",
    "* Mr. para se referir a homens (casados ou não)\n",
    "* Mrs. para se referir a mulheres casadas\n",
    "* Miss para se referir a mulheres solteiras\n",
    "\n",
    "Os pronomes de tratamento são especialmente importantes para caracterizar as personagens de \"orgulho e preconceito\", de Jane Austin (https://www.gutenberg.org/ebooks/42671). Faça um programa que classifique todos personagens do livro como homens, mulheres casadas ou mulheres solteiras."
   ]
  },
  {
   "cell_type": "markdown",
   "metadata": {},
   "source": []
  }
 ],
 "metadata": {
  "interpreter": {
   "hash": "b3ba2566441a7c06988d0923437866b63cedc61552a5af99d1f4fb67d367b25f"
  },
  "kernelspec": {
   "display_name": "Python 3.9.7 64-bit ('base': conda)",
   "language": "python",
   "name": "python3"
  },
  "language_info": {
   "codemirror_mode": {
    "name": "ipython",
    "version": 3
   },
   "file_extension": ".py",
   "mimetype": "text/x-python",
   "name": "python",
   "nbconvert_exporter": "python",
   "pygments_lexer": "ipython3",
   "version": "3.9.7"
  },
  "orig_nbformat": 4
 },
 "nbformat": 4,
 "nbformat_minor": 2
}
