{
 "cells": [
  {
   "cell_type": "code",
   "execution_count": 1,
   "metadata": {},
   "outputs": [
    {
     "name": "stderr",
     "output_type": "stream",
     "text": [
      "[nltk_data] Downloading package wordnet to\n",
      "[nltk_data]     C:\\Users\\tiagoft1\\AppData\\Roaming\\nltk_data...\n",
      "[nltk_data]   Package wordnet is already up-to-date!\n",
      "[nltk_data] Downloading package omw to\n",
      "[nltk_data]     C:\\Users\\tiagoft1\\AppData\\Roaming\\nltk_data...\n",
      "[nltk_data]   Package omw is already up-to-date!\n"
     ]
    },
    {
     "data": {
      "text/plain": [
       "True"
      ]
     },
     "execution_count": 1,
     "metadata": {},
     "output_type": "execute_result"
    }
   ],
   "source": [
    "from nltk.corpus import wordnet\n",
    "import nltk\n",
    "nltk.download('wordnet')\n",
    "nltk.download('omw')"
   ]
  },
  {
   "cell_type": "code",
   "execution_count": 35,
   "metadata": {},
   "outputs": [
    {
     "name": "stdout",
     "output_type": "stream",
     "text": [
      "[Synset('cold.n.01'), Synset('coldness.n.03'), Synset('cold.n.03'), Synset('cold.a.01'), Synset('cold.a.02'), Synset('cold.s.03'), Synset('cold.s.04'), Synset('cold.s.05'), Synset('cold.s.06'), Synset('cold.s.07'), Synset('cold.s.08'), Synset('cold.s.09'), Synset('cold.s.10'), Synset('cold.s.11'), Synset('cold.s.12'), Synset('cold.s.13')]\n",
      "['cold.n.01', 'coldness.n.03', 'cold.n.03', 'cold.a.01', 'cold.a.02', 'cold.s.03', 'cold.s.04', 'cold.s.05', 'cold.s.06', 'cold.s.07', 'cold.s.08', 'cold.s.09', 'cold.s.10', 'cold.s.11', 'cold.s.12', 'cold.s.13']\n",
      "['a mild viral infection involving the nose and respiratory passages (but not the lungs)', 'the absence of heat', 'the sensation produced by low temperatures', 'having a low or inadequate temperature or feeling a sensation of coldness or having been made cold by e.g. ice or refrigeration', 'extended meanings; especially of psychological coldness; without human warmth or emotion', 'having lost freshness through passage of time', '(color) giving no sensation of warmth', 'marked by errorless familiarity', 'lacking originality or spontaneity; no longer new', 'so intense as to be almost uncontrollable', 'sexually unresponsive', 'without compunction or human feeling', 'feeling or showing no enthusiasm', 'unconscious from a blow or shock or intoxication', 'of a seeker; far from the object sought', 'lacking the warmth of life']\n"
     ]
    }
   ],
   "source": [
    "from nltk.corpus import wordnet\n",
    "synsets = wordnet.synsets('plant')\n",
    "print([syn for syn in synsets])\n",
    "print([syn.name() for syn in synsets])\n",
    "print([syn.definition() for syn in synsets])"
   ]
  },
  {
   "cell_type": "code",
   "execution_count": 38,
   "metadata": {},
   "outputs": [
    {
     "name": "stdout",
     "output_type": "stream",
     "text": [
      "['cold', 'common_cold']\n"
     ]
    }
   ],
   "source": [
    "from nltk.corpus import wordnet\n",
    "synsets = wordnet.synsets('plant')\n",
    "print([lemma.name() for lemma in synsets[0].lemmas()])"
   ]
  },
  {
   "cell_type": "code",
   "execution_count": 45,
   "metadata": {},
   "outputs": [
    {
     "name": "stdout",
     "output_type": "stream",
     "text": [
      "Synset('cold.a.02') extended meanings; especially of psychological coldness; without human warmth or emotion\n",
      "Synset('cold.a.01') having a low or inadequate temperature or feeling a sensation of coldness or having been made cold by e.g. ice or refrigeration\n"
     ]
    }
   ],
   "source": [
    "from nltk.wsd import lesk\n",
    "phrase1 = \"they were so cold - entirely without emotion\".split()\n",
    "syns1 = lesk(phrase1, 'cold')\n",
    "phrase2 = \"when I had time to eat, my meal was ice cold\".split()\n",
    "syns2 = lesk(phrase2, 'cold')\n",
    "print(syns1, syns1.definition())\n",
    "print(syns2, syns2.definition())"
   ]
  },
  {
   "cell_type": "code",
   "execution_count": 55,
   "metadata": {},
   "outputs": [
    {
     "name": "stdout",
     "output_type": "stream",
     "text": [
      "an intelligent dog with a heavy curly solid-colored coat that is usually clipped; an old breed sometimes trained as sporting dogs or as performing dogs\n",
      "\n",
      "Synset abstract term :   [Synset('dog.n.01')]\n",
      "\n",
      "Synset specific term :   [Synset('large_poodle.n.01'), Synset('miniature_poodle.n.01'), Synset('standard_poodle.n.01'), Synset('toy_poodle.n.01')]\n"
     ]
    }
   ],
   "source": [
    "syn = wordnet.synsets('poodle')[0]\n",
    "print(syn.definition())\n",
    "print (\"\\nSynset abstract term :  \", syn.hypernyms())\n",
    "print (\"\\nSynset specific term :  \", syn.hyponyms())\n",
    "  "
   ]
  },
  {
   "cell_type": "code",
   "execution_count": 54,
   "metadata": {},
   "outputs": [
    {
     "name": "stdout",
     "output_type": "stream",
     "text": [
      "a sturdy thickset short-haired breed with a large head and strong undershot lower jaw; developed originally in England for bull baiting\n",
      "\n",
      "Synset abstract term :   [Synset('working_dog.n.01')]\n",
      "\n",
      "Synset specific term :   [Synset('french_bulldog.n.01')]\n",
      "\n",
      "Synset root hypernerm :   [Synset('entity.n.01')]\n"
     ]
    }
   ],
   "source": [
    "syn = wordnet.synsets('bulldog')[0]\n",
    "print(syn.definition())\n",
    "print (\"\\nSynset abstract term :  \", syn.hypernyms())\n",
    "print (\"\\nSynset specific term :  \", syn.hyponyms())\n",
    "  \n",
    "syn.root_hypernyms()\n",
    "  \n",
    "print (\"\\nSynset root hypernerm :  \", syn.root_hypernyms())"
   ]
  },
  {
   "cell_type": "code",
   "execution_count": 57,
   "metadata": {},
   "outputs": [
    {
     "name": "stdout",
     "output_type": "stream",
     "text": [
      "Synset('dog.n.01') a member of the genus Canis (probably descended from the common wolf) that has been domesticated by man since prehistoric times; occurs in many breeds\n"
     ]
    }
   ],
   "source": [
    "syns1 = wordnet.synsets(\"poodle\")[0]\n",
    "syns2 = wordnet.synsets(\"bulldog\")[0]\n",
    "hyper = syns1.lowest_common_hypernyms(syns2)[0]\n",
    "print(hyper, hyper.definition())"
   ]
  },
  {
   "cell_type": "code",
   "execution_count": 63,
   "metadata": {},
   "outputs": [
    {
     "name": "stdout",
     "output_type": "stream",
     "text": [
      "0.25\n",
      "0.8387096774193549\n"
     ]
    }
   ],
   "source": [
    "syns1 = wordnet.synsets(\"poodle\")[0]\n",
    "syns2 = wordnet.synsets(\"bulldog\")[0]\n",
    "print(syns1.path_similarity(syns2))\n",
    "print(syns1.wup_similarity(syns2))"
   ]
  },
  {
   "cell_type": "code",
   "execution_count": 97,
   "metadata": {},
   "outputs": [
    {
     "name": "stdout",
     "output_type": "stream",
     "text": [
      "1.0\n",
      "0.2\n",
      "0.058823529411764705\n"
     ]
    }
   ],
   "source": [
    "dog = wordnet.synset('dog.n.01')\n",
    "cat = wordnet.synset('cat.n.01')\n",
    "slap = wordnet.synset('slap.n.01')\n",
    "print(dog.path_similarity(dog))\n",
    "print(dog.path_similarity(cat))\n",
    "print(dog.path_similarity(slap))\n"
   ]
  },
  {
   "cell_type": "code",
   "execution_count": 98,
   "metadata": {},
   "outputs": [
    {
     "name": "stdout",
     "output_type": "stream",
     "text": [
      "0.9285714285714286\n",
      "0.8571428571428571\n",
      "0.1111111111111111\n"
     ]
    }
   ],
   "source": [
    "dog = wordnet.synset('dog.n.01')\n",
    "cat = wordnet.synset('cat.n.01')\n",
    "slap = wordnet.synset('slap.n.01')\n",
    "print(dog.wup_similarity(dog))\n",
    "print(dog.wup_similarity(cat))\n",
    "print(dog.wup_similarity(slap))"
   ]
  },
  {
   "cell_type": "code",
   "execution_count": 101,
   "metadata": {},
   "outputs": [
    {
     "name": "stdout",
     "output_type": "stream",
     "text": [
      "1.0\n",
      "0.4\n",
      "0.5\n",
      "1.0\n",
      "0.25\n",
      "0.3333333333333333\n"
     ]
    }
   ],
   "source": [
    "love = wordnet.synset('love.v.01')\n",
    "hate = wordnet.synset('hate.v.01')\n",
    "beautiful = wordnet.synset('beautiful.a.01')\n",
    "print(love.wup_similarity(love))\n",
    "print(love.wup_similarity(hate))\n",
    "print(love.wup_similarity(beautiful))\n",
    "\n",
    "print(love.path_similarity(love))\n",
    "print(love.path_similarity(hate))\n",
    "print(love.path_similarity(beautiful))"
   ]
  },
  {
   "cell_type": "code",
   "execution_count": 109,
   "metadata": {},
   "outputs": [
    {
     "data": {
      "text/plain": [
       "[['afeição', 'amor', 'apego'],\n",
       " ['afeição', 'amor', 'dolorimento', 'finura', 'maciez'],\n",
       " ['afeição', 'amor', 'paixão', 'Paixão'],\n",
       " ['amor'],\n",
       " ['afeição', 'amor'],\n",
       " ['afecção',\n",
       "  'afeição',\n",
       "  'Afetividade',\n",
       "  'amor',\n",
       "  'apego',\n",
       "  'carinho',\n",
       "  'impressão_moral'],\n",
       " ['Amor', 'Cupido'],\n",
       " ['amante', 'amor'],\n",
       " ['amor'],\n",
       " ['amor',\n",
       "  'anjo',\n",
       "  'darling',\n",
       "  'doçura',\n",
       "  'honey',\n",
       "  'meiga',\n",
       "  'miguxo',\n",
       "  'querida',\n",
       "  'queridarling',\n",
       "  'querido',\n",
       "  'tesouro'],\n",
       " ['amor']]"
      ]
     },
     "execution_count": 109,
     "metadata": {},
     "output_type": "execute_result"
    }
   ],
   "source": [
    "[s.lemma_names(lang='por') for s in wordnet.synsets('amor', lang='por')]"
   ]
  },
  {
   "cell_type": "code",
   "execution_count": 119,
   "metadata": {},
   "outputs": [
    {
     "name": "stdout",
     "output_type": "stream",
     "text": [
      "Synonyms:  ['louco']\n",
      "Definition: possessed by inordinate excitement\n",
      "Hyponyms:  []\n",
      "Hypernyms:  []\n",
      "\n",
      "Synonyms:  ['louco']\n",
      "Definition: affected with madness or insanity\n",
      "Hyponyms:  []\n",
      "Hypernyms:  []\n",
      "\n",
      "Synonyms:  ['louco']\n",
      "Definition: talking or behaving irrationally\n",
      "Hyponyms:  []\n",
      "Hypernyms:  []\n",
      "\n",
      "Synonyms:  ['demente', 'louco', 'maluco']\n",
      "Definition: very foolish\n",
      "Hyponyms:  []\n",
      "Hypernyms:  []\n",
      "\n",
      "Synonyms:  ['louco', 'maníaco']\n",
      "Definition: an insane person\n",
      "Hyponyms:  ['bedlamite', 'crazy', 'madwoman', 'pyromaniac']\n",
      "Hypernyms:  ['sick_person']\n",
      "\n",
      "Synonyms:  ['doido', 'insano', 'louco', 'psicopata', 'psicótico']\n",
      "Definition: a person afflicted with psychosis\n",
      "Hyponyms:  ['cataleptic', 'paranoid', 'schizophrenic']\n",
      "Hypernyms:  ['sick_person']\n",
      "\n"
     ]
    }
   ],
   "source": [
    "word = 'louco'\n",
    "syn = wordnet.synsets(word, lang='por')\n",
    "for s in syn:\n",
    "    print (\"Synonyms: \", [l.name() for l in s.lemmas(lang='por')])\n",
    "    print (\"Definition:\", s.definition())\n",
    "    print (\"Hyponyms: \", [l.lemmas()[0].name() for l in s.hyponyms()])\n",
    "    print (\"Hypernyms: \", [l.lemmas()[0].name() for l in s.hypernyms()]) \n",
    "    print(\"\")  "
   ]
  },
  {
   "cell_type": "code",
   "execution_count": 139,
   "metadata": {},
   "outputs": [
    {
     "name": "stdout",
     "output_type": "stream",
     "text": [
      "[Synset('hike.n.01'), Synset('rise.n.09'), Synset('raise.n.01'), Synset('hike.v.01'), Synset('hike.v.02')]\n"
     ]
    }
   ],
   "source": [
    "print(wordnet.synsets('hike'))"
   ]
  },
  {
   "cell_type": "code",
   "execution_count": null,
   "metadata": {},
   "outputs": [],
   "source": []
  }
 ],
 "metadata": {
  "interpreter": {
   "hash": "b3ba2566441a7c06988d0923437866b63cedc61552a5af99d1f4fb67d367b25f"
  },
  "kernelspec": {
   "display_name": "Python 3.9.7 64-bit ('base': conda)",
   "language": "python",
   "name": "python3"
  },
  "language_info": {
   "codemirror_mode": {
    "name": "ipython",
    "version": 3
   },
   "file_extension": ".py",
   "mimetype": "text/x-python",
   "name": "python",
   "nbconvert_exporter": "python",
   "pygments_lexer": "ipython3",
   "version": "3.9.7"
  },
  "orig_nbformat": 4
 },
 "nbformat": 4,
 "nbformat_minor": 2
}
