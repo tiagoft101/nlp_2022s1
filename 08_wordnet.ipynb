{
 "cells": [
  {
   "cell_type": "code",
   "execution_count": null,
   "metadata": {},
   "outputs": [],
   "source": [
    "from nltk.corpus import wordnet\n",
    "import nltk\n",
    "nltk.download('wordnet')\n",
    "nltk.download('omw')"
   ]
  },
  {
   "cell_type": "code",
   "execution_count": null,
   "metadata": {},
   "outputs": [],
   "source": [
    "from nltk.corpus import wordnet\n",
    "synsets = wordnet.synsets('plant')\n",
    "print([syn for syn in synsets])\n",
    "print([syn.name() for syn in synsets])\n",
    "print([syn.definition() for syn in synsets])"
   ]
  },
  {
   "cell_type": "code",
   "execution_count": null,
   "metadata": {},
   "outputs": [],
   "source": [
    "from nltk.corpus import wordnet\n",
    "synsets = wordnet.synsets('plant')\n",
    "print([lemma.name() for lemma in synsets[0].lemmas()])"
   ]
  },
  {
   "cell_type": "code",
   "execution_count": null,
   "metadata": {},
   "outputs": [],
   "source": [
    "from nltk.wsd import lesk\n",
    "phrase1 = \"they were so cold - entirely without emotion\".split()\n",
    "syns1 = lesk(phrase1, 'cold')\n",
    "phrase2 = \"when I had time to eat, my meal was ice cold\".split()\n",
    "syns2 = lesk(phrase2, 'cold')\n",
    "print(syns1, syns1.definition())\n",
    "print(syns2, syns2.definition())"
   ]
  },
  {
   "cell_type": "code",
   "execution_count": null,
   "metadata": {},
   "outputs": [],
   "source": [
    "syn = wordnet.synsets('poodle')[0]\n",
    "print(syn.definition())\n",
    "print (\"\\nSynset abstract term :  \", syn.hypernyms())\n",
    "print (\"\\nSynset specific term :  \", syn.hyponyms())\n",
    "  "
   ]
  },
  {
   "cell_type": "code",
   "execution_count": null,
   "metadata": {},
   "outputs": [],
   "source": [
    "syn = wordnet.synsets('bulldog')[0]\n",
    "print(syn.definition())\n",
    "print (\"\\nSynset abstract term :  \", syn.hypernyms())\n",
    "print (\"\\nSynset specific term :  \", syn.hyponyms())\n",
    "  \n",
    "syn.root_hypernyms()\n",
    "  \n",
    "print (\"\\nSynset root hypernerm :  \", syn.root_hypernyms())"
   ]
  },
  {
   "cell_type": "code",
   "execution_count": null,
   "metadata": {},
   "outputs": [],
   "source": [
    "syns1 = wordnet.synsets(\"poodle\")[0]\n",
    "syns2 = wordnet.synsets(\"bulldog\")[0]\n",
    "hyper = syns1.lowest_common_hypernyms(syns2)[0]\n",
    "print(hyper, hyper.definition())"
   ]
  },
  {
   "cell_type": "code",
   "execution_count": null,
   "metadata": {},
   "outputs": [],
   "source": [
    "syns1 = wordnet.synsets(\"poodle\")[0]\n",
    "syns2 = wordnet.synsets(\"bulldog\")[0]\n",
    "print(syns1.path_similarity(syns2))\n",
    "print(syns1.wup_similarity(syns2))"
   ]
  },
  {
   "cell_type": "code",
   "execution_count": null,
   "metadata": {},
   "outputs": [],
   "source": [
    "dog = wordnet.synset('dog.n.01')\n",
    "cat = wordnet.synset('cat.n.01')\n",
    "slap = wordnet.synset('slap.n.01')\n",
    "print(dog.path_similarity(dog))\n",
    "print(dog.path_similarity(cat))\n",
    "print(dog.path_similarity(slap))\n"
   ]
  },
  {
   "cell_type": "code",
   "execution_count": null,
   "metadata": {},
   "outputs": [],
   "source": [
    "dog = wordnet.synset('dog.n.01')\n",
    "cat = wordnet.synset('cat.n.01')\n",
    "slap = wordnet.synset('slap.n.01')\n",
    "print(dog.wup_similarity(dog))\n",
    "print(dog.wup_similarity(cat))\n",
    "print(dog.wup_similarity(slap))"
   ]
  },
  {
   "cell_type": "code",
   "execution_count": null,
   "metadata": {},
   "outputs": [],
   "source": [
    "love = wordnet.synset('love.v.01')\n",
    "hate = wordnet.synset('hate.v.01')\n",
    "beautiful = wordnet.synset('beautiful.a.01')\n",
    "print(love.wup_similarity(love))\n",
    "print(love.wup_similarity(hate))\n",
    "print(love.wup_similarity(beautiful))\n",
    "\n",
    "print(love.path_similarity(love))\n",
    "print(love.path_similarity(hate))\n",
    "print(love.path_similarity(beautiful))"
   ]
  },
  {
   "cell_type": "code",
   "execution_count": null,
   "metadata": {},
   "outputs": [],
   "source": [
    "[s.lemma_names(lang='por') for s in wordnet.synsets('amor', lang='por')]"
   ]
  },
  {
   "cell_type": "code",
   "execution_count": null,
   "metadata": {},
   "outputs": [],
   "source": [
    "word = 'louco'\n",
    "syn = wordnet.synsets(word, lang='por')\n",
    "for s in syn:\n",
    "    print (\"Synonyms: \", [l.name() for l in s.lemmas(lang='por')])\n",
    "    print (\"Definition:\", s.definition())\n",
    "    print (\"Hyponyms: \", [l.lemmas()[0].name() for l in s.hyponyms()])\n",
    "    print (\"Hypernyms: \", [l.lemmas()[0].name() for l in s.hypernyms()]) \n",
    "    print(\"\")  "
   ]
  },
  {
   "cell_type": "code",
   "execution_count": null,
   "metadata": {},
   "outputs": [],
   "source": [
    "print(wordnet.synsets('hike'))"
   ]
  },
  {
   "cell_type": "code",
   "execution_count": null,
   "metadata": {},
   "outputs": [],
   "source": []
  }
 ],
 "metadata": {
  "interpreter": {
   "hash": "b3ba2566441a7c06988d0923437866b63cedc61552a5af99d1f4fb67d367b25f"
  },
  "kernelspec": {
   "display_name": "Python 3.9.7 64-bit ('base': conda)",
   "language": "python",
   "name": "python3"
  },
  "language_info": {
   "codemirror_mode": {
    "name": "ipython",
    "version": 3
   },
   "file_extension": ".py",
   "mimetype": "text/x-python",
   "name": "python",
   "nbconvert_exporter": "python",
   "pygments_lexer": "ipython3",
   "version": "3.9.7"
  },
  "orig_nbformat": 4
 },
 "nbformat": 4,
 "nbformat_minor": 2
}
