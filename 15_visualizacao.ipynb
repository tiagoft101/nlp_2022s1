{
 "cells": [
  {
   "cell_type": "code",
   "execution_count": null,
   "metadata": {},
   "outputs": [],
   "source": [
    "import matplotlib.pyplot as plt\n",
    "plt.style.use('default')\n",
    "import pandas as pd\n",
    "import numpy as np\n",
    "from sklearn.feature_extraction.text import CountVectorizer\n",
    "from sklearn.decomposition import NMF"
   ]
  },
  {
   "cell_type": "markdown",
   "metadata": {},
   "source": [
    "# Aula 15: Visualização de Dados\n",
    "**Objetivo da aula:** ao fim desta aula, o aluno será capaz de usar ferramentas de visualização gráfica para mostrar graficamente o conteúdo de coleções."
   ]
  },
  {
   "cell_type": "markdown",
   "metadata": {},
   "source": [
    "# Exercício 1\n",
    "*Objetivo: usar um plano cartesiano para mostrar dados*\n",
    "\n",
    "Usando um plano cartesiano (desenhe manualmente!), mostre os dados de seus colegas de turma quando os eixos são:\n",
    "1. O peso e altura\n",
    "1. Altura e idade\n",
    "\n",
    "O que os gráficos mostram sobre a relação entre essas medidas?"
   ]
  },
  {
   "cell_type": "markdown",
   "metadata": {},
   "source": [
    "## Carregar dados"
   ]
  },
  {
   "cell_type": "markdown",
   "metadata": {},
   "source": [
    "# Exercício 2\n",
    "*Objetivo: interpretar gráficos de dispersão para antever o resultado de classificadores*\n",
    "\n",
    "O código abaixo faz a fatoração NMF de alguns elementos do IMDB dataset para um espaço de 2 tópicos.\n",
    "\n",
    "1. O que cada ponto da figura significa\n",
    "1. O que significa o eixo horizontal? E o eixo vertical?\n",
    "\n"
   ]
  },
  {
   "cell_type": "code",
   "execution_count": null,
   "metadata": {},
   "outputs": [],
   "source": [
    "df = pd.read_csv('./datasets/IMDB Dataset.csv').sample(1000)\n",
    "df.head()\n"
   ]
  },
  {
   "cell_type": "code",
   "execution_count": null,
   "metadata": {},
   "outputs": [],
   "source": [
    "n_components = 2\n",
    "vectorizer = CountVectorizer(binary=True, max_features=400, min_df=0.01, max_df=0.4)\n",
    "X = vectorizer.fit_transform(list(df['review']))\n",
    "print(X.shape)\n",
    "nmf = NMF(n_components=n_components, init='nndsvda')\n",
    "y = nmf.fit_transform(X.toarray())\n",
    "\n",
    "# a1 = nmf.components_[:, vectorizer.vocabulary_['director']]"
   ]
  },
  {
   "cell_type": "code",
   "execution_count": null,
   "metadata": {},
   "outputs": [],
   "source": [
    "# Documentos e seus tópicos\n",
    "plt.figure(figsize=(4,4))\n",
    "plt.scatter(y[:,0], y[:,1], s=1)\n",
    "plt.title('Distribuição de documentos por tópico')\n",
    "plt.ylabel('Tópico 2')\n",
    "plt.xlabel('Tópico 1')\n",
    "plt.show()"
   ]
  },
  {
   "cell_type": "markdown",
   "metadata": {},
   "source": [
    "# Exercício 3\n",
    "*Objetivo: entender como cores podem ser usadas para mostrar características qualitativas de dispersões*\n",
    "\n",
    "O código a seguir adiciona cores ao gráfico que fizemos anteriormente.\n",
    "\n",
    "1. Na figura seguinte, o que significam as cores?\n",
    "1. Olhando a figura, você acredita que os tópicos são características relevantes para fazer a classificação de documentos de acordo com seu sentimento?"
   ]
  },
  {
   "cell_type": "code",
   "execution_count": null,
   "metadata": {},
   "outputs": [],
   "source": [
    "# Usar cores\n",
    "sent = list(df['sentiment'])\n",
    "yp = np.array([y[i,:] for i in range(len(sent)) if sent[i]=='positive'])\n",
    "yn = np.array([y[i,:] for i in range(len(sent)) if sent[i]=='negative'])\n",
    "plt.figure(figsize=(4,4))\n",
    "plt.scatter(yp[:,0], yp[:,1], s=1, c='b', alpha=0.5, label='Positive')\n",
    "plt.scatter(yn[:,0], yn[:,1], s=1, c='r', alpha=0.5, label='Negative')\n",
    "plt.title('Distribuição de documentos por tópico')\n",
    "plt.ylabel('Tópico 2')\n",
    "plt.xlabel('Tópico 1')\n",
    "plt.legend()\n",
    "plt.show()"
   ]
  },
  {
   "cell_type": "markdown",
   "metadata": {},
   "source": [
    "# Exercício 4\n",
    "*Objetivo: usar overlays para criar referências na visualização*\n",
    "\n",
    "1. O que significa cada ponto na figura criada abaixo?\n",
    "1. Parecem existir agrupamentos de palavras ou distribuições típicas?\n",
    "1. A figura mostra palavras escritas em suas posições. Como isso ajuda a interpretar o gráfico?"
   ]
  },
  {
   "cell_type": "code",
   "execution_count": null,
   "metadata": {},
   "outputs": [],
   "source": [
    "# Mostrando algumas palavras em overlay\n",
    "v = nmf.components_\n",
    "plt.figure(figsize=(4,4))\n",
    "plt.scatter(v[0,:], v[1,:], s=1, alpha=0.3, c='b')\n",
    "for s in [\"director\", \"actor\", \"bad\", \"excellent\", \"plot\", \"worst\", \"best\"]:\n",
    "    _n = vectorizer.vocabulary_[s]\n",
    "    plt.text(v[0,_n], v[1,_n], s, ha='center')\n",
    "plt.title('Distribuição de palavras por tópico')\n",
    "plt.ylabel('Tópico 2')\n",
    "plt.xlabel('Tópico 1')\n",
    "plt.show()"
   ]
  },
  {
   "cell_type": "markdown",
   "metadata": {},
   "source": [
    "# Exercício 5\n",
    "*Objetivo: explicar a necessidade de fazer uma projeção em dimensão mais baixa*\n",
    "\n",
    "No código abaixo, fazemos uma regressão por tópicos.\n",
    "\n",
    "Por que, neste caso, é mais difícil visualizar as dimensões da variável `y`?"
   ]
  },
  {
   "cell_type": "code",
   "execution_count": null,
   "metadata": {},
   "outputs": [],
   "source": [
    "n_components = 60\n",
    "vectorizer = CountVectorizer(binary=True, max_features=400, min_df=0.01, max_df=0.4)\n",
    "X = vectorizer.fit_transform(list(df['review']))\n",
    "print(X.shape)\n",
    "nmf = NMF(n_components=n_components, init='nndsvda')\n",
    "y = nmf.fit_transform(X.toarray())"
   ]
  },
  {
   "cell_type": "markdown",
   "metadata": {},
   "source": [
    "# Exercício 6\n",
    "*Objetivo: explicar a projeção PCA*\n",
    "\n",
    "A ideia da projeção PCA é que os dados ($X$) estão distribuidos de forma que suas dimensões se correlacionam. Então, teríamos algo como:"
   ]
  },
  {
   "cell_type": "code",
   "execution_count": null,
   "metadata": {},
   "outputs": [],
   "source": [
    "x1 = np.random.random(100)"
   ]
  },
  {
   "cell_type": "code",
   "execution_count": null,
   "metadata": {},
   "outputs": [],
   "source": [
    "r=0.5\n",
    "x2 = r*x1 + 0.05*np.random.randn(100)\n",
    "plt.figure()\n",
    "plt.scatter(x1,x2)\n",
    "plt.xlabel('x1')\n",
    "plt.xlabel('x2')\n",
    "plt.show()"
   ]
  },
  {
   "cell_type": "markdown",
   "metadata": {},
   "source": [
    "O desafio de PCA é encontrar uma projeção desses dados que permita encontrar as direções nas quais os dados mais se distribuem, e, ao mesmo tempo, garantir que as dimensões encontradas são ortogonais entre si. No caso acima, teríamos:"
   ]
  },
  {
   "cell_type": "code",
   "execution_count": null,
   "metadata": {},
   "outputs": [],
   "source": [
    "from sklearn.decomposition import PCA\n",
    "pca = PCA(2)\n",
    "X = np.array([x1, x2]).T\n",
    "y = pca.fit_transform(X)\n",
    "plt.figure()\n",
    "plt.scatter(y[:,0], y[:,1])\n",
    "plt.plot()"
   ]
  },
  {
   "cell_type": "markdown",
   "metadata": {},
   "source": [
    "Use a applet sobre PCA em https://setosa.io/ev/principal-component-analysis/ para visualizar como PCA se comporta em várias situações.\n",
    "\n",
    "1. Na primeira figura deste exercício, quais são as direções principais?\n",
    "1. Como a projeção PCA se comporta quando mudamos o valor de $r$? Por que?"
   ]
  },
  {
   "cell_type": "markdown",
   "metadata": {},
   "source": [
    "# Exercício 7\n",
    "*Objetivo: aplicar a projeção PCA para reduzir dimensões*\n",
    "\n",
    "Podemos usar PCA para reduzir a dimensionalidade de um conjunto de dados para um espaço de dimensão $n$. Para isso:\n",
    "* Realizamos a projeção PCA\n",
    "* Escolhemos somente as $n$ direções com maior variação dos dados\n",
    "\n",
    "Por exemplo:"
   ]
  },
  {
   "cell_type": "code",
   "execution_count": null,
   "metadata": {},
   "outputs": [],
   "source": [
    "x1 = 0.1*np.random.randn(100)\n",
    "x2 = 0.2*np.random.randn(100)\n",
    "x3 = 0.3*np.random.randn(100)\n",
    "x4 = 10*np.random.randn(100)\n",
    "pca = PCA(2)\n",
    "X = np.array([x1, x2,x3,x4]).T\n",
    "y = pca.fit_transform(X)\n",
    "plt.figure()\n",
    "plt.scatter(y[:,0], y[:,1])\n",
    "plt.plot()"
   ]
  },
  {
   "cell_type": "markdown",
   "metadata": {},
   "source": [
    "Podemos visualizar os componentes principais usando:"
   ]
  },
  {
   "cell_type": "code",
   "execution_count": null,
   "metadata": {},
   "outputs": [],
   "source": [
    "print(pca.components_)"
   ]
  },
  {
   "cell_type": "markdown",
   "metadata": {},
   "source": [
    "1. O que significa cada elemento da matriz em `pca.components_`?\n",
    "1. Como a projeção se comporta quando alteramos os coeficientes multiplicativos de x1, x2, x3 e x4?"
   ]
  },
  {
   "cell_type": "markdown",
   "metadata": {},
   "source": [
    "# Exercício 8\n",
    "*Objetivo: usar a projeção PCA para visualizar espaços de tópicos de alta dimensão*\n",
    "\n",
    "1. Usando PCA, mostre uma visualização do espaço de tópicos gerado por uma regressão em tópicos com muitos tópicos.\n",
    "1. Compare essa visualização com aquela obtida por um espaço de tópicos criado com dois tópicos."
   ]
  },
  {
   "cell_type": "markdown",
   "metadata": {},
   "source": [
    "# Exercício 9\n",
    "*Objetivo: usar a projeção PCA para comparar diferentes espaços vetoriais*\n",
    "\n",
    "Podemos argumentar que NMF provavelmente retira informações importantes de nossa projeção.\n",
    "\n",
    "Usando PCA, visualize o espaço gerado pelo `vectorizer`, isto é, mostre a projeção PCA da saída do vetorizador. Como ele se compara com o espaço gerado pelo NMF?"
   ]
  },
  {
   "cell_type": "markdown",
   "metadata": {},
   "source": [
    "# Exercício 10\n",
    "*Objetivo: interpretar a visualização de dados em diferentes datasets*\n",
    "\n",
    "Escolha um outro conjunto de dados. Aplique os processos de visualização que aprendemos para visualizar a coleção de documentos e como as palavras se organizam. Após, mostre sua visualização para os colegas.\n",
    "\n",
    "\n",
    "# Exercício 11\n",
    "*Objetivo: analisar as possibilidades e as limitações das figuras que montamos*\n",
    "\n",
    "Analisando as figuras que foram geradas por você e seus colegas durante esta aula, reflita:\n",
    "\n",
    "1. Quais informações relevantes podemos extrair desse tipo de análise?\n",
    "1. Quais são as limitações desta forma de análise, isto é, quais seriam informações que não podemos tirar delas?\n",
    "\n"
   ]
  },
  {
   "cell_type": "code",
   "execution_count": null,
   "metadata": {},
   "outputs": [],
   "source": []
  },
  {
   "cell_type": "code",
   "execution_count": null,
   "metadata": {},
   "outputs": [],
   "source": []
  }
 ],
 "metadata": {
  "interpreter": {
   "hash": "b3ba2566441a7c06988d0923437866b63cedc61552a5af99d1f4fb67d367b25f"
  },
  "kernelspec": {
   "display_name": "Python 3.9.7 ('base')",
   "language": "python",
   "name": "python3"
  },
  "language_info": {
   "codemirror_mode": {
    "name": "ipython",
    "version": 3
   },
   "file_extension": ".py",
   "mimetype": "text/x-python",
   "name": "python",
   "nbconvert_exporter": "python",
   "pygments_lexer": "ipython3",
   "version": "3.9.7"
  },
  "orig_nbformat": 4
 },
 "nbformat": 4,
 "nbformat_minor": 2
}
