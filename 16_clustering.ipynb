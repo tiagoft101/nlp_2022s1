{
 "cells": [
  {
   "cell_type": "code",
   "execution_count": null,
   "metadata": {},
   "outputs": [],
   "source": [
    "import matplotlib.pyplot as plt\n",
    "import matplotlib.colors as mcolors\n",
    "plt.style.use('default')\n",
    "import pandas as pd\n",
    "import numpy as np\n",
    "from sklearn.feature_extraction.text import CountVectorizer\n",
    "from sklearn.decomposition import NMF, PCA\n",
    "from sklearn.cluster import KMeans\n",
    "from sklearn.manifold import Isomap\n",
    "import requests\n",
    "stopwords_list = requests.get(\"https://gist.githubusercontent.com/rg089/35e00abf8941d72d419224cfd5b5925d/raw/12d899b70156fd0041fa9778d657330b024b959c/stopwords.txt\").content\n",
    "stopwords = set(stopwords_list.decode().splitlines()) \n",
    "\n"
   ]
  },
  {
   "cell_type": "markdown",
   "metadata": {},
   "source": []
  },
  {
   "cell_type": "code",
   "execution_count": null,
   "metadata": {},
   "outputs": [],
   "source": [
    "from sklearn.datasets import make_blobs\n",
    "x,y = make_blobs(n_samples=300, n_features=2, centers=[[-2,-2],[2,2]])\n",
    "print (x.shape)\n",
    "plt.figure(figsize=(5,5))\n",
    "plt.scatter(x[:,0], x[:,1], s=2)\n",
    "#plt.savefig('clusters.png')\n",
    "plt.show()"
   ]
  },
  {
   "cell_type": "code",
   "execution_count": null,
   "metadata": {},
   "outputs": [],
   "source": [
    "kmeans = KMeans(n_clusters=2)\n",
    "x_ = kmeans.fit_transform(x)\n",
    "means_ = kmeans.cluster_centers_\n",
    "print(means_)\n"
   ]
  },
  {
   "cell_type": "code",
   "execution_count": null,
   "metadata": {},
   "outputs": [],
   "source": [
    "labels_ = kmeans.labels_\n",
    "print(labels_)"
   ]
  },
  {
   "cell_type": "code",
   "execution_count": null,
   "metadata": {},
   "outputs": [],
   "source": [
    "xp = np.array([x[i,:] for i in range(len(labels_)) if labels_[i]==0])\n",
    "xn = np.array([x[i,:] for i in range(len(labels_)) if labels_[i]==1])\n",
    "plt.figure(figsize=(4,4))\n",
    "plt.scatter(xp[:,0], xp[:,1], s=1, c='b', alpha=0.5, label='Cluster 0')\n",
    "plt.scatter(xn[:,0], xn[:,1], s=1, c='r', alpha=0.5, label='Cluster 1')\n",
    "plt.scatter(means_[0,0], means_[0,1], s=40, c='b', label='Centro 0')\n",
    "plt.scatter(means_[1,0], means_[1,1], s=40, c='r', label='Centro 1')\n",
    "plt.title('Pontos e clusterização')\n",
    "plt.legend()\n",
    "plt.show()"
   ]
  },
  {
   "cell_type": "markdown",
   "metadata": {},
   "source": [
    "# Aplicação: IMDB Dataset"
   ]
  },
  {
   "cell_type": "code",
   "execution_count": null,
   "metadata": {},
   "outputs": [],
   "source": [
    "df = pd.read_csv('./datasets/IMDB Dataset.csv').sample(2000)\n",
    "adhoc_stopwords = set((\"good time 10 lost great bad\".split()))\n",
    "vectorizer = CountVectorizer(binary=True, stop_words=set.union(stopwords, adhoc_stopwords), max_features=1000, max_df=0.4, ngram_range=(1,2))\n",
    "X = vectorizer.fit_transform(list(df['review']))\n",
    "print(X.shape)\n",
    "projecao = PCA(n_components=2)\n",
    "y = projecao.fit_transform(X.toarray())\n",
    "plt.figure(figsize=(4,4))\n",
    "plt.scatter(y[:,0], y[:,1], s=1, c='b', alpha=0.5)\n",
    "plt.title('Projeção da distribuição de documentos')\n",
    "plt.ylabel('Componente 2')\n",
    "plt.xlabel('Componente 1')\n",
    "plt.legend()\n",
    "plt.show()"
   ]
  },
  {
   "cell_type": "code",
   "execution_count": null,
   "metadata": {},
   "outputs": [],
   "source": [
    "n_clusters = 6\n",
    "colors = list(mcolors.TABLEAU_COLORS)\n",
    "kmeans = KMeans(n_clusters=n_clusters)\n",
    "kmeans.fit(X)\n",
    "c = kmeans.labels_\n",
    "plt.figure(figsize=(5,5))\n",
    "for k in range(n_clusters):\n",
    "    yc = np.array([ [y[i,0], y[i,1]] for i in range(len(c)) if c[i]==k ])\n",
    "    print(yc.shape)\n",
    "    plt.scatter(yc[:,0], yc[:,1], s=5, c=colors[k], label=str(k))\n",
    "plt.title('Clusterização da distribuição de documentos')\n",
    "plt.ylabel('Componente 2')\n",
    "plt.xlabel('Componente 1')\n",
    "plt.show()\n"
   ]
  },
  {
   "cell_type": "code",
   "execution_count": null,
   "metadata": {},
   "outputs": [],
   "source": [
    "\n",
    "for k in range(n_clusters):\n",
    "    x_ = np.mean(X[c==k,:], axis=0)\n",
    "\n",
    "    tuplas = [ (x_[0,vectorizer.vocabulary_[i]], i) for i in vectorizer.vocabulary_.keys()]\n",
    "    tuplas_ordenadas = sorted(tuplas, reverse=True) # reverse=True pede uma ordenação em ordem decrescente\n",
    "    palavras = [ t[1] for t in tuplas_ordenadas ]\n",
    "    contagens = [ t[0] for t in tuplas_ordenadas ]\n",
    "\n",
    "    n_palavras = 15\n",
    "    eixo_x = np.arange(n_palavras)\n",
    "    plt.figure(figsize=(10,1))\n",
    "    plt.bar(eixo_x[0:n_palavras], contagens[0:n_palavras], color=colors[k])\n",
    "    plt.title('Cluster ' + str(k) + ' - Documentos:' + str(X[c==k,:].shape[0]))\n",
    "    plt.xticks(eixo_x[0:n_palavras], palavras[0:n_palavras], rotation=70)\n",
    "    plt.show()"
   ]
  },
  {
   "cell_type": "code",
   "execution_count": null,
   "metadata": {},
   "outputs": [],
   "source": []
  },
  {
   "cell_type": "markdown",
   "metadata": {},
   "source": [
    "# Aplicação: clusterizando clientes"
   ]
  },
  {
   "cell_type": "code",
   "execution_count": null,
   "metadata": {},
   "outputs": [],
   "source": [
    "df = pd.read_csv('./datasets/amazon_reviews.csv').sample(2000)\n",
    "df.head()"
   ]
  },
  {
   "cell_type": "code",
   "execution_count": null,
   "metadata": {},
   "outputs": [],
   "source": [
    "adhoc_stopwords = set((\"good time 10 lost great bad amazon echo alexa love tablet\".split()))\n",
    "vectorizer = CountVectorizer(binary=True, stop_words=set.union(stopwords, adhoc_stopwords), max_features=1000, max_df=0.4, ngram_range=(1,2))\n",
    "X = vectorizer.fit_transform(list(df['reviews.title'].dropna()))\n",
    "print(X.shape)\n",
    "projecao = PCA(n_components=2)\n",
    "y = projecao.fit_transform(X.toarray())\n",
    "plt.figure(figsize=(4,4))\n",
    "plt.scatter(y[:,0], y[:,1], s=1, c='b', alpha=0.5)\n",
    "plt.title('Projeção da distribuição de documentos')\n",
    "plt.ylabel('Componente 2')\n",
    "plt.xlabel('Componente 1')\n",
    "plt.legend()\n",
    "plt.show()"
   ]
  },
  {
   "cell_type": "code",
   "execution_count": null,
   "metadata": {},
   "outputs": [],
   "source": [
    "n_clusters = 9\n",
    "colors = list(mcolors.TABLEAU_COLORS)\n",
    "kmeans = KMeans(n_clusters=n_clusters)\n",
    "kmeans.fit(X)\n",
    "c = kmeans.labels_\n",
    "plt.figure(figsize=(5,5))\n",
    "for k in range(n_clusters):\n",
    "    yc = np.array([ [y[i,0], y[i,1]] for i in range(len(c)) if c[i]==k ])\n",
    "    print(yc.shape)\n",
    "    plt.scatter(yc[:,0], yc[:,1], s=5, c=colors[k], label=str(k))\n",
    "plt.title('Clusterização da distribuição de documentos')\n",
    "plt.ylabel('Componente 2')\n",
    "plt.xlabel('Componente 1')\n",
    "plt.show()\n"
   ]
  },
  {
   "cell_type": "code",
   "execution_count": null,
   "metadata": {},
   "outputs": [],
   "source": [
    "\n",
    "for k in range(n_clusters):\n",
    "    x_ = np.mean(X[c==k,:], axis=0)\n",
    "\n",
    "    tuplas = [ (x_[0,vectorizer.vocabulary_[i]], i) for i in vectorizer.vocabulary_.keys()]\n",
    "    tuplas_ordenadas = sorted(tuplas, reverse=True) # reverse=True pede uma ordenação em ordem decrescente\n",
    "    palavras = [ t[1] for t in tuplas_ordenadas ]\n",
    "    contagens = [ t[0] for t in tuplas_ordenadas ]\n",
    "\n",
    "    n_palavras = 15\n",
    "    eixo_x = np.arange(n_palavras)\n",
    "    plt.figure(figsize=(10,1))\n",
    "    plt.bar(eixo_x[0:n_palavras], contagens[0:n_palavras], color=colors[k])\n",
    "    plt.title('Cluster ' + str(k) + ' - Documentos:' + str(X[c==k,:].shape[0]))\n",
    "    plt.xticks(eixo_x[0:n_palavras], palavras[0:n_palavras], rotation=70)\n",
    "    plt.show()"
   ]
  },
  {
   "cell_type": "code",
   "execution_count": null,
   "metadata": {},
   "outputs": [],
   "source": []
  },
  {
   "cell_type": "code",
   "execution_count": null,
   "metadata": {},
   "outputs": [],
   "source": []
  },
  {
   "cell_type": "code",
   "execution_count": null,
   "metadata": {},
   "outputs": [],
   "source": []
  }
 ],
 "metadata": {
  "interpreter": {
   "hash": "b3ba2566441a7c06988d0923437866b63cedc61552a5af99d1f4fb67d367b25f"
  },
  "kernelspec": {
   "display_name": "Python 3.9.7 ('base')",
   "language": "python",
   "name": "python3"
  },
  "language_info": {
   "codemirror_mode": {
    "name": "ipython",
    "version": 3
   },
   "file_extension": ".py",
   "mimetype": "text/x-python",
   "name": "python",
   "nbconvert_exporter": "python",
   "pygments_lexer": "ipython3",
   "version": "3.9.7"
  },
  "orig_nbformat": 4
 },
 "nbformat": 4,
 "nbformat_minor": 2
}
