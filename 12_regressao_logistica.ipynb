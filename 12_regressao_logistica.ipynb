{
 "cells": [
  {
   "cell_type": "markdown",
   "metadata": {},
   "source": []
  },
  {
   "cell_type": "markdown",
   "metadata": {},
   "source": [
    "# Aula 12: Regressão Logística\n",
    "**Objetivo da aula:** ao fim desta aula, o aluno usará regressão logística para fazer classificação de textos e métodos estatísticos para comparar o resultado de classificadores "
   ]
  },
  {
   "cell_type": "code",
   "execution_count": 2,
   "metadata": {},
   "outputs": [],
   "source": [
    "import matplotlib.pyplot as plt\n",
    "plt.style.use('default')\n",
    "import pandas as pd\n",
    "import numpy as np\n",
    "from sklearn.model_selection import train_test_split\n",
    "from sklearn.naive_bayes import BernoulliNB\n",
    "from sklearn.linear_model import LogisticRegression\n",
    "from sklearn.feature_extraction.text import CountVectorizer\n",
    "from sklearn.metrics import classification_report"
   ]
  },
  {
   "cell_type": "markdown",
   "metadata": {},
   "source": [
    "# Exercício 1\n",
    "*Objetivo: explicar a regressão logística*\n",
    "\n",
    "Na regressão logística, cada palavra recebe um “peso”. Um peso positivo indica que a palavra tipicamente está presente na classe “positiva”. Um peso negativo indica que a palavra tipicamente está presente na classe “negativa”. Um peso próximo de zero significa que a palavra não deveria ser levada em conta no processo de decisão.\n",
    "\n",
    "Compare essa ideia com a que está presente em “Naive Bayes”. Que propriedade representa o \"peso\" em Naive Bayes?"
   ]
  },
  {
   "cell_type": "markdown",
   "metadata": {},
   "source": [
    "# Exercício 2\n",
    "*Objetivo: visualizar o resultado de classificadores no problema de detecção de spam*\n",
    "\n",
    "Nos códigos abaixo, verifique como funciona a API do `LogisticRegression()`.\n",
    "\n",
    "1. Como os resultados de classificação do classificador logístico se comparam com os do Naive Bayes?\n",
    "1. Quando executamos novamente o código, temos os mesmos resultados? Por que?\n",
    "1. Modifique o notebook para corrigir eventuais erros que você tenha encontrado. Como os resultados se modificaram?\n"
   ]
  },
  {
   "cell_type": "code",
   "execution_count": 3,
   "metadata": {},
   "outputs": [
    {
     "data": {
      "text/html": [
       "<div>\n",
       "<style scoped>\n",
       "    .dataframe tbody tr th:only-of-type {\n",
       "        vertical-align: middle;\n",
       "    }\n",
       "\n",
       "    .dataframe tbody tr th {\n",
       "        vertical-align: top;\n",
       "    }\n",
       "\n",
       "    .dataframe thead th {\n",
       "        text-align: right;\n",
       "    }\n",
       "</style>\n",
       "<table border=\"1\" class=\"dataframe\">\n",
       "  <thead>\n",
       "    <tr style=\"text-align: right;\">\n",
       "      <th></th>\n",
       "      <th>Unnamed: 0</th>\n",
       "      <th>label</th>\n",
       "      <th>text</th>\n",
       "      <th>label_num</th>\n",
       "    </tr>\n",
       "  </thead>\n",
       "  <tbody>\n",
       "    <tr>\n",
       "      <th>0</th>\n",
       "      <td>605</td>\n",
       "      <td>ham</td>\n",
       "      <td>Subject: enron methanol ; meter # : 988291\\r\\n...</td>\n",
       "      <td>0</td>\n",
       "    </tr>\n",
       "    <tr>\n",
       "      <th>1</th>\n",
       "      <td>2349</td>\n",
       "      <td>ham</td>\n",
       "      <td>Subject: hpl nom for january 9 , 2001\\r\\n( see...</td>\n",
       "      <td>0</td>\n",
       "    </tr>\n",
       "    <tr>\n",
       "      <th>2</th>\n",
       "      <td>3624</td>\n",
       "      <td>ham</td>\n",
       "      <td>Subject: neon retreat\\r\\nho ho ho , we ' re ar...</td>\n",
       "      <td>0</td>\n",
       "    </tr>\n",
       "    <tr>\n",
       "      <th>3</th>\n",
       "      <td>4685</td>\n",
       "      <td>spam</td>\n",
       "      <td>Subject: photoshop , windows , office . cheap ...</td>\n",
       "      <td>1</td>\n",
       "    </tr>\n",
       "    <tr>\n",
       "      <th>4</th>\n",
       "      <td>2030</td>\n",
       "      <td>ham</td>\n",
       "      <td>Subject: re : indian springs\\r\\nthis deal is t...</td>\n",
       "      <td>0</td>\n",
       "    </tr>\n",
       "  </tbody>\n",
       "</table>\n",
       "</div>"
      ],
      "text/plain": [
       "   Unnamed: 0 label                                               text  \\\n",
       "0         605   ham  Subject: enron methanol ; meter # : 988291\\r\\n...   \n",
       "1        2349   ham  Subject: hpl nom for january 9 , 2001\\r\\n( see...   \n",
       "2        3624   ham  Subject: neon retreat\\r\\nho ho ho , we ' re ar...   \n",
       "3        4685  spam  Subject: photoshop , windows , office . cheap ...   \n",
       "4        2030   ham  Subject: re : indian springs\\r\\nthis deal is t...   \n",
       "\n",
       "   label_num  \n",
       "0          0  \n",
       "1          0  \n",
       "2          0  \n",
       "3          1  \n",
       "4          0  "
      ]
     },
     "execution_count": 3,
     "metadata": {},
     "output_type": "execute_result"
    }
   ],
   "source": [
    "df = pd.read_csv('./datasets/spam_ham_dataset.csv')\n",
    "df.head()"
   ]
  },
  {
   "cell_type": "code",
   "execution_count": 4,
   "metadata": {},
   "outputs": [],
   "source": [
    "textos = list(df['text'])\n",
    "labels = list(df['label'])\n",
    "vectorizer = CountVectorizer(binary=True)\n",
    "X = vectorizer.fit_transform(textos)\n",
    "X_train, X_test, y_train, y_test = train_test_split(X, labels)"
   ]
  },
  {
   "cell_type": "code",
   "execution_count": 5,
   "metadata": {},
   "outputs": [
    {
     "name": "stdout",
     "output_type": "stream",
     "text": [
      "              precision    recall  f1-score   support\n",
      "\n",
      "         ham       0.98      0.97      0.98       927\n",
      "        spam       0.93      0.96      0.95       366\n",
      "\n",
      "    accuracy                           0.97      1293\n",
      "   macro avg       0.96      0.97      0.96      1293\n",
      "weighted avg       0.97      0.97      0.97      1293\n",
      "\n",
      "['ham' 'spam']\n"
     ]
    }
   ],
   "source": [
    "model_lr = LogisticRegression()\n",
    "model_lr.fit(X_train, y_train)\n",
    "y_pred = model_lr.predict(X_test)\n",
    "print(classification_report(y_test, y_pred))\n",
    "print(model_lr.classes_)"
   ]
  },
  {
   "cell_type": "markdown",
   "metadata": {},
   "source": [
    "# Exercício 3\n",
    "*Objetivo: comparar a relevância de palavras em regressão logística com a encontrada em Naive Bayes*\n",
    "\n",
    "Nos códigos abaixo, temos uma ideia de como encontrar a relevância de palavras na Regressão Logísitica.\n",
    "\n",
    "1. Como ela se compara com aquela fornecida usando a frequência de palavras em Naive Bayes?\n",
    "1. Como ela se compara com aquela fornecida usando a métrica de Chen et al., que implementamos na aula passada, para o caso Naive Bayes?"
   ]
  },
  {
   "cell_type": "code",
   "execution_count": 23,
   "metadata": {},
   "outputs": [
    {
     "name": "stdout",
     "output_type": "stream",
     "text": [
      "['ham' 'spam']\n"
     ]
    }
   ],
   "source": [
    "vocab = vectorizer.vocabulary_\n",
    "print(model_lr.classes_)\n",
    "palavras_ham = []\n",
    "palavras_spam = []\n",
    "for t in vocab.keys():\n",
    "    coef = model_lr.coef_[0, vocab[t]]\n",
    "    if coef<0:\n",
    "        palavras_ham.append( (-coef, t) )\n",
    "    else:\n",
    "        palavras_spam.append( (coef, t) )"
   ]
  },
  {
   "cell_type": "code",
   "execution_count": null,
   "metadata": {},
   "outputs": [],
   "source": []
  },
  {
   "cell_type": "code",
   "execution_count": 24,
   "metadata": {},
   "outputs": [
    {
     "data": {
      "image/png": "[encoded data removed]",
      "text/plain": [
       "<Figure size 1400x300 with 1 Axes>"
      ]
     },
     "metadata": {},
     "output_type": "display_data"
    }
   ],
   "source": [
    "tuplas_ordenadas = sorted(palavras_ham, reverse=True) # reverse=True pede uma ordenação em ordem decrescente\n",
    "palavras = [ t[1] for t in tuplas_ordenadas ]\n",
    "contagens = [ t[0] for t in tuplas_ordenadas ]\n",
    "\n",
    "n_palavras = 30\n",
    "eixo_x = np.arange(n_palavras)\n",
    "plt.figure(figsize=(14,3))\n",
    "plt.bar(eixo_x[0:n_palavras], contagens[0:n_palavras])\n",
    "plt.xticks(eixo_x[0:n_palavras], palavras[0:n_palavras], rotation=90)\n",
    "plt.show()"
   ]
  },
  {
   "cell_type": "code",
   "execution_count": null,
   "metadata": {},
   "outputs": [],
   "source": []
  },
  {
   "cell_type": "code",
   "execution_count": 25,
   "metadata": {},
   "outputs": [
    {
     "data": {
      "image/png": "[encoded data removed]",
      "text/plain": [
       "<Figure size 1400x300 with 1 Axes>"
      ]
     },
     "metadata": {},
     "output_type": "display_data"
    }
   ],
   "source": [
    "tuplas_ordenadas = sorted(palavras_spam, reverse=True) # reverse=True pede uma ordenação em ordem decrescente\n",
    "palavras = [ t[1] for t in tuplas_ordenadas ]\n",
    "contagens = [ t[0] for t in tuplas_ordenadas ]\n",
    "\n",
    "n_palavras = 30\n",
    "eixo_x = np.arange(n_palavras)\n",
    "plt.figure(figsize=(14,3))\n",
    "plt.bar(eixo_x[0:n_palavras], contagens[0:n_palavras])\n",
    "plt.xticks(eixo_x[0:n_palavras], palavras[0:n_palavras], rotation=90)\n",
    "plt.show()"
   ]
  },
  {
   "cell_type": "code",
   "execution_count": null,
   "metadata": {},
   "outputs": [],
   "source": []
  },
  {
   "cell_type": "markdown",
   "metadata": {},
   "source": [
    "# Exercício 4\n",
    "*Objetivo: comparar estatisticamente o desempenho dos classificadores*\n",
    "\n",
    "1. Como funciona o método “bootstrap”? Como ele poderia ser usado para levantar intervalos de confiança para os classificadores?\n",
    "1. Implemente o procedimento que você determinou no ítem (a). Se precisar, veja a documentação das métricas de classificação do scikit-learn (https://scikit-learn.org/stable/modules/model_evaluation.html). Qual métrica seria mais adequada, neste caso?\n",
    "1. Faça uma figura mostrando o desempenho dos classificadores para o spam dataset e também o intervalo de confiança. A figura deve ser completa o suficiente para, se destacada de qualquer texto externo (exceto pelo título, legendo e rótulos dos eixos), ainda assim ser compreensível por uma pessoa não-técnica.\n"
   ]
  },
  {
   "cell_type": "code",
   "execution_count": 26,
   "metadata": {},
   "outputs": [
    {
     "name": "stdout",
     "output_type": "stream",
     "text": [
      "              precision    recall  f1-score   support\n",
      "\n",
      "         ham       0.84      0.97      0.90       927\n",
      "        spam       0.89      0.53      0.67       366\n",
      "\n",
      "    accuracy                           0.85      1293\n",
      "   macro avg       0.86      0.75      0.78      1293\n",
      "weighted avg       0.85      0.85      0.84      1293\n",
      "\n"
     ]
    }
   ],
   "source": [
    "model_nb = BernoulliNB()\n",
    "model_nb.fit(X_train, y_train)\n",
    "y_pred = model_nb.predict(X_test)\n",
    "print(classification_report(y_test, y_pred))"
   ]
  },
  {
   "cell_type": "code",
   "execution_count": 2,
   "metadata": {},
   "outputs": [],
   "source": [
    "# Resolva aqui"
   ]
  },
  {
   "cell_type": "code",
   "execution_count": null,
   "metadata": {},
   "outputs": [],
   "source": []
  },
  {
   "cell_type": "markdown",
   "metadata": {},
   "source": [
    "# Exercício 5\n",
    "*Objetivo: tomar decisões levando em consideração o desempenho de classificadores*\n",
    "\n",
    "Compare o desempenho dos classificadores também nos problemas de:\n",
    "\n",
    "1. Encontrar o teor de sentimento de um review de filme (use o IMDB Dataset)\n",
    "1. Encontrar o teor de sentimento de um tweet sobre linhas aéreas (use o Twitter Airline Dataset).\n",
    "\n",
    "Crie uma figura única que mostre o resultado completo dessa comparação de desempenho."
   ]
  },
  {
   "cell_type": "markdown",
   "metadata": {},
   "source": []
  },
  {
   "cell_type": "code",
   "execution_count": null,
   "metadata": {},
   "outputs": [],
   "source": []
  },
  {
   "cell_type": "markdown",
   "metadata": {},
   "source": [
    "# Exercício 6\n",
    "*Objetivo: incorporar outros classificadores no processo de comparação*\n",
    "\n",
    "Com bibliotecas como o Scikit-Learn, o acesso a outros classificadores ficou muito simples - em especial, porque eles passam a usar a mesma API. \n",
    "\n",
    "Usando um outro classificador à sua escolha dentre os disponíveis na biblioteca,\n",
    "1. Estudando o classificador, entenda como ele está realizando a classificação\n",
    "1. Avalie o desempenho do classificador, incorporando-o na sua figura\n",
    "1. Repita a operação com outros classificadores. Você consegue encontrar algum paradigma de classificação que gere resultados melhores nestes problemas?\n"
   ]
  },
  {
   "cell_type": "markdown",
   "metadata": {},
   "source": []
  }
 ],
 "metadata": {
  "interpreter": {
   "hash": "b3ba2566441a7c06988d0923437866b63cedc61552a5af99d1f4fb67d367b25f"
  },
  "kernelspec": {
   "display_name": "Python 3.9.7 64-bit ('base': conda)",
   "language": "python",
   "name": "python3"
  },
  "language_info": {
   "codemirror_mode": {
    "name": "ipython",
    "version": 3
   },
   "file_extension": ".py",
   "mimetype": "text/x-python",
   "name": "python",
   "nbconvert_exporter": "python",
   "pygments_lexer": "ipython3",
   "version": "3.9.7"
  },
  "orig_nbformat": 4
 },
 "nbformat": 4,
 "nbformat_minor": 2
}
