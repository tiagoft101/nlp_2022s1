{
 "cells": [
  {
   "cell_type": "markdown",
   "metadata": {},
   "source": [
    "# Tradução EN->PT"
   ]
  },
  {
   "cell_type": "code",
   "execution_count": null,
   "metadata": {},
   "outputs": [],
   "source": [
    "import matplotlib.pyplot as plt\n",
    "import matplotlib.colors as mcolors\n",
    "plt.style.use('default')\n",
    "import pandas as pd\n",
    "import numpy as np\n",
    "from sklearn.feature_extraction.text import CountVectorizer\n",
    "from sklearn.decomposition import NMF, PCA\n",
    "from sklearn.cluster import KMeans\n",
    "from sklearn.manifold import Isomap, TSNE\n",
    "from sklearn.preprocessing import OneHotEncoder\n",
    "from sklearn.model_selection import train_test_split\n",
    "from keras.models import Model\n",
    "from keras.layers import Input, Dense, TimeDistributed, Embedding, GlobalAveragePooling1D, Flatten, SimpleRNN, GRU, Dropout, LSTM, Bidirectional\n",
    "from tensorflow.keras.utils import plot_model\n",
    "from keras.callbacks import EarlyStopping\n",
    "from sklearn.metrics import classification_report\n",
    "import os\n",
    "import re"
   ]
  },
  {
   "cell_type": "code",
   "execution_count": null,
   "metadata": {},
   "outputs": [],
   "source": []
  },
  {
   "cell_type": "markdown",
   "metadata": {},
   "source": [
    "# Pre-processar dados"
   ]
  },
  {
   "cell_type": "code",
   "execution_count": null,
   "metadata": {},
   "outputs": [],
   "source": [
    "max_lines = 500\n",
    "lines_pt = []\n",
    "with open('./datasets/en_pt.pt', 'r+') as f:\n",
    "    curr_line = 0\n",
    "    for line in f:\n",
    "        curr_line = curr_line +1\n",
    "        lines_pt.append(line)\n",
    "        if curr_line >= max_lines:\n",
    "            break\n",
    "\n",
    "lines_en = []\n",
    "with open('./datasets/en_pt.en', 'r+') as f:\n",
    "    curr_line = 0\n",
    "    for line in f:\n",
    "        curr_line = curr_line +1\n",
    "        lines_en.append(line)\n",
    "        if curr_line >= max_lines:\n",
    "            break\n"
   ]
  },
  {
   "cell_type": "code",
   "execution_count": null,
   "metadata": {},
   "outputs": [],
   "source": [
    "print(lines_pt[0])"
   ]
  },
  {
   "cell_type": "code",
   "execution_count": null,
   "metadata": {},
   "outputs": [],
   "source": [
    "# Tokenizar linhas - pt & en\n",
    "\n",
    "# Entradas serao em portugues!\n",
    "from keras.preprocessing.text import Tokenizer\n",
    "from keras.utils.np_utils import to_categorical\n",
    "from keras.preprocessing.sequence import pad_sequences\n",
    "\n",
    "vocab_size_pt = 2000\n",
    "tokenizer_pt = Tokenizer(num_words=vocab_size_pt)\n",
    "tokenizer_pt.fit_on_texts(lines_pt)\n",
    "sequences_pt = tokenizer_pt.texts_to_sequences(lines_pt)\n",
    "sequences_pt = pad_sequences(sequences_pt, maxlen=100)\n",
    "\n",
    "# Saidas serao em ingles / one-hot encooding\n",
    "vocab_size_en = 2000\n",
    "tokenizer_en = Tokenizer(num_words=vocab_size_en)\n",
    "tokenizer_en.fit_on_texts(lines_en)\n",
    "sequences_en = tokenizer_en.texts_to_sequences(lines_en)\n",
    "sequences_en = pad_sequences(sequences_en, maxlen=100)\n",
    "\n"
   ]
  },
  {
   "cell_type": "code",
   "execution_count": null,
   "metadata": {},
   "outputs": [],
   "source": [
    "X = np.array(sequences_pt)\n",
    "print(X.shape)"
   ]
  },
  {
   "cell_type": "code",
   "execution_count": null,
   "metadata": {},
   "outputs": [],
   "source": [
    "y_ = np.array(sequences_en)\n",
    "y_ = y_.reshape(y_.shape[0]*y_.shape[1],1)\n",
    "\n",
    "onehot_encoder = OneHotEncoder(sparse=False)\n",
    "y = onehot_encoder.fit_transform(y_)\n",
    "y = y.reshape(max_lines, 100, vocab_size_en)\n",
    "print(y.shape)\n",
    "\n",
    "# Teste de sanidade!\n",
    "_i = np.argmax(y[15,91,:])\n",
    "_j = sequences_en[15,91]\n",
    "print(_i, _j)"
   ]
  },
  {
   "cell_type": "markdown",
   "metadata": {},
   "source": [
    "# Rede neural tipo encoder-decoder"
   ]
  },
  {
   "cell_type": "code",
   "execution_count": null,
   "metadata": {},
   "outputs": [],
   "source": [
    "def rede_neural_traducao(input_dims, vocab_size, dim_latente, dim_out):\n",
    "  input_layer = Input(shape=(input_dims,))\n",
    "  x = input_layer\n",
    "  x = Embedding(vocab_size, dim_latente, name='projecao')(x)\n",
    "  x,state_h, state_c = LSTM(512, return_sequences=True, return_state=True)(x)\n",
    "\n",
    "  x = LSTM(512, return_sequences=True) (x, initial_state=[state_h, state_c])\n",
    "  y = Dense(dim_out, activation='softmax', name='decisor')(x)\n",
    "  return Model(input_layer, y)\n",
    "\n",
    "rede_neural = rede_neural_traducao(100, vocab_size_pt, 100, vocab_size_en)\n",
    "rede_neural.compile(optimizer='adam', loss='categorical_crossentropy')\n",
    "plot_model(rede_neural, show_shapes=True, show_layer_activations=True)"
   ]
  },
  {
   "cell_type": "code",
   "execution_count": null,
   "metadata": {},
   "outputs": [],
   "source": [
    "#es = EarlyStopping(monitor='val_loss', mode='min', verbose=1, patience=10, restore_best_weights=True)\n",
    "history = rede_neural.fit(X, y, epochs=700)#, validation_split=0.2, callbacks=es)"
   ]
  },
  {
   "cell_type": "code",
   "execution_count": null,
   "metadata": {},
   "outputs": [],
   "source": [
    "plt.figure(figsize=(7,2))\n",
    "plt.plot(history.history['loss'], label='loss')\n",
    "#plt.plot(history.history['val_loss'], label='val_loss')\n",
    "plt.xlabel('Épocas')\n",
    "#plt.semilogy()\n",
    "plt.ylabel('Categorical Cross-Entropy')\n",
    "plt.legend()\n",
    "plt.show()"
   ]
  },
  {
   "cell_type": "markdown",
   "metadata": {},
   "source": [
    "## Teste"
   ]
  },
  {
   "cell_type": "code",
   "execution_count": null,
   "metadata": {},
   "outputs": [],
   "source": [
    "frase_de_teste=lines_pt[2]\n",
    "frase_de_teste=\"este ruido leva a resultados ruins\"\n",
    "tokens = tokenizer_pt.texts_to_sequences([frase_de_teste])\n",
    "tokens = pad_sequences(tokens, maxlen=100)\n",
    "tokens = np.array(tokens)\n",
    "print(tokens.shape)"
   ]
  },
  {
   "cell_type": "code",
   "execution_count": null,
   "metadata": {},
   "outputs": [],
   "source": [
    "y_predict = rede_neural.predict(tokens)\n",
    "y_sequence = np.argmax(y_predict, axis=2)\n",
    "print(y_sequence)"
   ]
  },
  {
   "cell_type": "code",
   "execution_count": null,
   "metadata": {},
   "outputs": [],
   "source": [
    "y_text = tokenizer_en.sequences_to_texts(y_sequence)\n",
    "print(y_text)"
   ]
  },
  {
   "cell_type": "code",
   "execution_count": null,
   "metadata": {},
   "outputs": [],
   "source": [
    "lines_en[2]"
   ]
  },
  {
   "cell_type": "code",
   "execution_count": null,
   "metadata": {},
   "outputs": [],
   "source": []
  }
 ],
 "metadata": {
  "interpreter": {
   "hash": "916dbcbb3f70747c44a77c7bcd40155683ae19c65e1c03b4aa3499c5328201f1"
  },
  "kernelspec": {
   "display_name": "Python 3.8.10 64-bit",
   "language": "python",
   "name": "python3"
  },
  "language_info": {
   "codemirror_mode": {
    "name": "ipython",
    "version": 3
   },
   "file_extension": ".py",
   "mimetype": "text/x-python",
   "name": "python",
   "nbconvert_exporter": "python",
   "pygments_lexer": "ipython3",
   "version": "3.8.10"
  },
  "orig_nbformat": 4
 },
 "nbformat": 4,
 "nbformat_minor": 2
}
