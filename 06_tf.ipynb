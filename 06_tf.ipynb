{
 "cells": [
  {
   "cell_type": "code",
   "execution_count": 1,
   "metadata": {},
   "outputs": [],
   "source": [
    "import nltk\n",
    "from nltk.corpus import stopwords\n",
    "from sklearn.feature_extraction.text import TfidfVectorizer\n",
    "#nltk.download('gutenberg')\n",
    "\n",
    "full_gutenberg = [nltk.corpus.gutenberg.raw(f) for f in nltk.corpus.gutenberg.fileids()]\n",
    "sw = stopwords.words('english')\n",
    "vec = TfidfVectorizer(max_features=500, stop_words=sw, min_df=3)\n",
    "X = vec.fit_transform(full_gutenberg)"
   ]
  },
  {
   "cell_type": "code",
   "execution_count": 2,
   "metadata": {},
   "outputs": [
    {
     "name": "stdout",
     "output_type": "stream",
     "text": [
      "Indexando documento  0\n",
      "Indexando documento  1\n",
      "Indexando documento  2\n",
      "Indexando documento  3\n",
      "Indexando documento  4\n",
      "Indexando documento  5\n",
      "Indexando documento  6\n",
      "Indexando documento  7\n",
      "Indexando documento  8\n",
      "Indexando documento  9\n",
      "Indexando documento  10\n",
      "Indexando documento  11\n",
      "Indexando documento  12\n",
      "Indexando documento  13\n",
      "Indexando documento  14\n",
      "Indexando documento  15\n",
      "Indexando documento  16\n",
      "Indexando documento  17\n"
     ]
    }
   ],
   "source": [
    "keywords = []\n",
    "n_keywords = 5\n",
    "for doc in range(X.shape[0]): # para cada documento\n",
    "    print(\"Indexando documento \", doc)\n",
    "    wordlist = []\n",
    "    for word in vec.vocabulary_.keys(): # para cada palavra\n",
    "        word_idx = vec.vocabulary_[word]\n",
    "        if X[doc,word_idx] > 0:\n",
    "            wordlist.append( (X[doc,word_idx], word) )\n",
    "    wordlist = sorted(wordlist, reverse=True)\n",
    "    keywords.append(wordlist[0:n_keywords])\n"
   ]
  },
  {
   "cell_type": "code",
   "execution_count": 29,
   "metadata": {},
   "outputs": [
    {
     "name": "stdout",
     "output_type": "stream",
     "text": [
      "Emma by Jane Austen 1816\n",
      "['mr', 'mrs', 'could', 'would', 'miss']\n",
      "------\n",
      "Persuasion by Jane Austen 1818\n",
      "['anne', 'mrs', 'captain', 'could', 'mr']\n",
      "------\n",
      "Sense and Sensibility by Jane Austen 1811\n",
      "['mrs', 'could', 'would', 'every', 'said']\n",
      "------\n",
      "The King James Bible\n",
      "['unto', 'shall', 'lord', 'thou', 'thy']\n",
      "------\n",
      "Poems by William Blake 1789\n",
      "['thee', 'thou', 'little', 'thy', 'like']\n",
      "------\n",
      "Stories to Tell to Children by Sara Cone Bryant 1\n",
      "['little', 'said', 'came', 'one', 'king']\n",
      "------\n",
      "The Adventures of Buster Bear by Thornton W. Burg\n",
      "['little', 'bear', 'brown', 'one', 'green']\n",
      "------\n",
      "Alice's Adventures in Wonderland by Lewis Carroll\n",
      "['alice', 'said', 'little', 'one', 'know']\n",
      "------\n",
      "The Ball and The Cross by G.K. Chesterton 1909\n",
      "['said', 'man', 'like', 'one', 'us']\n",
      "------\n",
      "The Wisdom of Father Brown by G. K. Chesterton 19\n",
      "['said', 'brown', 'like', 'man', 'one']\n",
      "------\n",
      "The Man Who Was Thursday by G. K. Chesterton 1908\n",
      "['said', 'man', 'like', 'one', 'could']\n",
      "------\n",
      "The Parent's Assistant, by Maria Edgeworth\n",
      "['said', 'mr', 'upon', 'mrs', 'would']\n",
      "------\n",
      "Moby Dick by Herman Melville 1851\n",
      "['whale', 'one', 'ship', 'upon', 'like']\n",
      "------\n",
      "Paradise Lost by John Milton 1667\n",
      "['thou', 'heaven', 'thee', 'thy', 'thus']\n",
      "------\n",
      "The Tragedie of Julius Caesar by William Shakespe\n",
      "['haue', 'thou', 'shall', 'thee', 'enter']\n",
      "------\n",
      "The Tragedie of Hamlet by William Shakespeare 159\n",
      "['ham', 'haue', 'lord', 'king', 'thou']\n",
      "------\n",
      "The Tragedie of Macbeth by William Shakespeare 16\n",
      "['haue', 'thou', 'enter', 'thee', 'hath']\n",
      "------\n",
      "Leaves of Grass by Walt Whitman 1855\n",
      "['see', 'thee', 'one', 'soul', 'love']\n",
      "------\n"
     ]
    }
   ],
   "source": [
    "# Documentos e palavras-chave\n",
    "import re\n",
    "for doc in range(X.shape[0]):\n",
    "    print(re.split(r'[\\[\\]]', full_gutenberg[doc][0:50])[1])\n",
    "    print([k[1] for k in keywords[doc]])\n",
    "    print(\"------\")"
   ]
  },
  {
   "cell_type": "code",
   "execution_count": 32,
   "metadata": {},
   "outputs": [
    {
     "name": "stderr",
     "output_type": "stream",
     "text": [
      "[nltk_data] Downloading package reuters to\n",
      "[nltk_data]     C:\\Users\\tiagoft1\\AppData\\Roaming\\nltk_data...\n",
      "[nltk_data]   Package reuters is already up-to-date!\n"
     ]
    },
    {
     "name": "stdout",
     "output_type": "stream",
     "text": [
      "ASIAN EXPORTERS FEAR DAMAGE FROM U.S.-JAPAN RIFT\n",
      "  Mounting trade friction between the\n",
      "  U.S. And Japan has raised fears among many of Asia's exporting\n",
      "  nations that the row could inflict far-reaching economic\n",
      "  damage, businessmen and officials said.\n",
      "      They told Reuter correspondents in Asian capitals a U.S.\n",
      "  Move against Japan might boost protectionist sentiment in the\n",
      "  U.S. And lead to curbs on American imports of their products.\n",
      "      But some exporters said that while the conflict would hurt\n",
      "  them in the long-run, in the short-term Tokyo's loss might be\n",
      "  their gain.\n",
      "      The U.S. Has said it will impose 300 mln dlrs of tariffs on\n",
      "  imports of Japanese electronics goods on April 17, in\n",
      "  retaliation for Japan's alleged failure to stick to a pact not\n",
      "  to sell semiconductors on world markets at below cost.\n",
      "      Unofficial Japanese estimates put the impact of the tariffs\n",
      "  at 10 billion dlrs and spokesmen for major electronics firms\n",
      "  said they would virtually halt exports of products hit by the\n",
      "  new taxes.\n",
      "      \"We wouldn't be able to do business,\" said a spokesman for\n",
      "  leading Japanese electronics firm Matsushita Electric\n",
      "  Industrial Co Ltd &lt;MC.T>.\n",
      "      \"If the tariffs remain in place for any length of time\n",
      "  beyond a few months it will mean the complete erosion of\n",
      "  exports (of goods subject to tariffs) to the U.S.,\" said Tom\n",
      "  Murtha, a stock analyst at the Tokyo office of broker &lt;James\n",
      "  Capel and Co>.\n",
      "      In Taiwan, businessmen and officials are also worried.\n",
      "      \"We are aware of the seriousness of the U.S. Threat against\n",
      "  Japan because it serves as a warning to us,\" said a senior\n",
      "  Taiwanese trade official who asked not to be named.\n",
      "      Taiwan had a trade trade surplus of 15.6 billion dlrs last\n",
      "  year, 95 pct of it with the U.S.\n",
      "      The surplus helped swell Taiwan's foreign exchange reserves\n",
      "  to 53 billion dlrs, among the world's largest.\n",
      "      \"We must quickly open our markets, remove trade barriers and\n",
      "  cut import tariffs to allow imports of U.S. Products, if we\n",
      "  want to defuse problems from possible U.S. Retaliation,\" said\n",
      "  Paul Sheen, chairman of textile exporters &lt;Taiwan Safe Group>.\n",
      "      A senior official of South Korea's trade promotion\n",
      "  association said the trade dispute between the U.S. And Japan\n",
      "  might also lead to pressure on South Korea, whose chief exports\n",
      "  are similar to those of Japan.\n",
      "      Last year South Korea had a trade surplus of 7.1 billion\n",
      "  dlrs with the U.S., Up from 4.9 billion dlrs in 1985.\n",
      "      In Malaysia, trade officers and businessmen said tough\n",
      "  curbs against Japan might allow hard-hit producers of\n",
      "  semiconductors in third countries to expand their sales to the\n",
      "  U.S.\n",
      "      In Hong Kong, where newspapers have alleged Japan has been\n",
      "  selling below-cost semiconductors, some electronics\n",
      "  manufacturers share that view. But other businessmen said such\n",
      "  a short-term commercial advantage would be outweighed by\n",
      "  further U.S. Pressure to block imports.\n",
      "      \"That is a very short-term view,\" said Lawrence Mills,\n",
      "  director-general of the Federation of Hong Kong Industry.\n",
      "      \"If the whole purpose is to prevent imports, one day it will\n",
      "  be extended to other sources. Much more serious for Hong Kong\n",
      "  is the disadvantage of action restraining trade,\" he said.\n",
      "      The U.S. Last year was Hong Kong's biggest export market,\n",
      "  accounting for over 30 pct of domestically produced exports.\n",
      "      The Australian government is awaiting the outcome of trade\n",
      "  talks between the U.S. And Japan with interest and concern,\n",
      "  Industry Minister John Button said in Canberra last Friday.\n",
      "      \"This kind of deterioration in trade relations between two\n",
      "  countries which are major trading partners of ours is a very\n",
      "  serious matter,\" Button said.\n",
      "      He said Australia's concerns centred on coal and beef,\n",
      "  Australia's two largest exports to Japan and also significant\n",
      "  U.S. Exports to that country.\n",
      "      Meanwhile U.S.-Japanese diplomatic manoeuvres to solve the\n",
      "  trade stand-off continue.\n",
      "      Japan's ruling Liberal Democratic Party yesterday outlined\n",
      "  a package of economic measures to boost the Japanese economy.\n",
      "      The measures proposed include a large supplementary budget\n",
      "  and record public works spending in the first half of the\n",
      "  financial year.\n",
      "      They also call for stepped-up spending as an emergency\n",
      "  measure to stimulate the economy despite Prime Minister\n",
      "  Yasuhiro Nakasone's avowed fiscal reform program.\n",
      "      Deputy U.S. Trade Representative Michael Smith and Makoto\n",
      "  Kuroda, Japan's deputy minister of International Trade and\n",
      "  Industry (MITI), are due to meet in Washington this week in an\n",
      "  effort to end the dispute.\n",
      "  \n",
      "\n",
      "\n"
     ]
    }
   ],
   "source": [
    "from nltk.corpus import reuters\n",
    "nltk.download('reuters')\n",
    "reuters.fileids()\n",
    "full_reuters = [nltk.corpus.reuters.raw(f) for f in nltk.corpus.reuters.fileids()]\n",
    "print(full_reuters[0])"
   ]
  },
  {
   "cell_type": "code",
   "execution_count": 33,
   "metadata": {},
   "outputs": [
    {
     "data": {
      "text/plain": [
       "['CorpusView',\n",
       " '__class__',\n",
       " '__delattr__',\n",
       " '__dict__',\n",
       " '__dir__',\n",
       " '__doc__',\n",
       " '__eq__',\n",
       " '__format__',\n",
       " '__ge__',\n",
       " '__getattribute__',\n",
       " '__gt__',\n",
       " '__hash__',\n",
       " '__init__',\n",
       " '__init_subclass__',\n",
       " '__le__',\n",
       " '__lt__',\n",
       " '__module__',\n",
       " '__ne__',\n",
       " '__new__',\n",
       " '__reduce__',\n",
       " '__reduce_ex__',\n",
       " '__repr__',\n",
       " '__setattr__',\n",
       " '__sizeof__',\n",
       " '__str__',\n",
       " '__subclasshook__',\n",
       " '__weakref__',\n",
       " '_add',\n",
       " '_c2f',\n",
       " '_citation',\n",
       " '_delimiter',\n",
       " '_encoding',\n",
       " '_f2c',\n",
       " '_file',\n",
       " '_fileids',\n",
       " '_get_root',\n",
       " '_init',\n",
       " '_license',\n",
       " '_map',\n",
       " '_para_block_reader',\n",
       " '_pattern',\n",
       " '_read_para_block',\n",
       " '_read_sent_block',\n",
       " '_read_word_block',\n",
       " '_readme',\n",
       " '_resolve',\n",
       " '_root',\n",
       " '_sent_tokenizer',\n",
       " '_tagset',\n",
       " '_unload',\n",
       " '_word_tokenizer',\n",
       " 'abspath',\n",
       " 'abspaths',\n",
       " 'categories',\n",
       " 'citation',\n",
       " 'encoding',\n",
       " 'ensure_loaded',\n",
       " 'fileids',\n",
       " 'license',\n",
       " 'open',\n",
       " 'paras',\n",
       " 'raw',\n",
       " 'readme',\n",
       " 'root',\n",
       " 'sents',\n",
       " 'words']"
      ]
     },
     "execution_count": 33,
     "metadata": {},
     "output_type": "execute_result"
    }
   ],
   "source": [
    "dir(reuters)"
   ]
  },
  {
   "cell_type": "code",
   "execution_count": 35,
   "metadata": {},
   "outputs": [
    {
     "data": {
      "text/plain": [
       "'\\n      The Reuters-21578 benchmark corpus, ApteMod version\\n\\nThis is a publically available version of the well-known Reuters-21578\\n\"ApteMod\" corpus for text categorization.  It has been used in\\npublications like these:\\n\\n * Yiming Yang and X. Liu. \"A re-examination of text categorization\\n   methods\".  1999.  Proceedings of 22nd Annual International SIGIR.\\n   http://citeseer.nj.nec.com/yang99reexamination.html\\n\\n * Thorsten Joachims. \"Text categorization with support vector\\n   machines: learning with many relevant features\".  1998. Proceedings\\n   of ECML-98, 10th European Conference on Machine Learning.\\n   http://citeseer.nj.nec.com/joachims98text.html\\n\\nApteMod is a collection of 10,788 documents from the Reuters financial\\nnewswire service, partitioned into a training set with 7769 documents\\nand a test set with 3019 documents.  The total size of the corpus is\\nabout 43 MB.  It is also available for download from\\nhttp://kdd.ics.uci.edu/databases/reuters21578/reuters21578.html ,\\nwhich includes a more extensive history of the data revisions.\\n\\nThe distribution of categories in the ApteMod corpus is highly skewed,\\nwith 36.7% of the documents in the most common category, and only\\n0.0185% (2 documents) in each of the five least common categories.\\nIn fact, the original data source is even more skewed---in creating\\nthe corpus, any categories that did not contain at least one document\\nin the training set and one document in the test set were removed from\\nthe corpus by its original creator.\\n\\nIn the ApteMod corpus, each document belongs to one or more\\ncategories.  There are 90 categories in the corpus.  The average\\nnumber of categories per document is 1.235, and the average number of\\ndocuments per category is about 148, or 1.37% of the corpus.\\n\\n -Ken Williams\\n  ken@mathforum.org\\n\\n         Copyright & Notification \\n\\n(extracted from the README at the UCI address above)\\n\\nThe copyright for the text of newswire articles and Reuters\\nannotations in the Reuters-21578 collection resides with Reuters Ltd.\\nReuters Ltd. and Carnegie Group, Inc. have agreed to allow the free\\ndistribution of this data *for research purposes only*.  \\n\\nIf you publish results based on this data set, please acknowledge\\nits use, refer to the data set by the name \"Reuters-21578,\\nDistribution 1.0\", and inform your readers of the current location of\\nthe data set (see \"Availability & Questions\").\\n\\n'"
      ]
     },
     "execution_count": 35,
     "metadata": {},
     "output_type": "execute_result"
    }
   ],
   "source": [
    "reuters.readme()"
   ]
  },
  {
   "cell_type": "code",
   "execution_count": null,
   "metadata": {},
   "outputs": [],
   "source": []
  }
 ],
 "metadata": {
  "interpreter": {
   "hash": "b3ba2566441a7c06988d0923437866b63cedc61552a5af99d1f4fb67d367b25f"
  },
  "kernelspec": {
   "display_name": "Python 3.9.7 64-bit ('base': conda)",
   "language": "python",
   "name": "python3"
  },
  "language_info": {
   "codemirror_mode": {
    "name": "ipython",
    "version": 3
   },
   "file_extension": ".py",
   "mimetype": "text/x-python",
   "name": "python",
   "nbconvert_exporter": "python",
   "pygments_lexer": "ipython3",
   "version": "3.9.7"
  },
  "orig_nbformat": 4
 },
 "nbformat": 4,
 "nbformat_minor": 2
}
