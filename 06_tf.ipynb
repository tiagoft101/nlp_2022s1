{
 "cells": [
  {
   "cell_type": "code",
   "execution_count": null,
   "metadata": {},
   "outputs": [],
   "source": [
    "import nltk\n",
    "from nltk.corpus import stopwords\n",
    "from sklearn.feature_extraction.text import TfidfVectorizer\n",
    "#nltk.download('gutenberg')\n",
    "nltk.download('stopwords')\n",
    "\n",
    "full_gutenberg = [nltk.corpus.gutenberg.raw(f) for f in nltk.corpus.gutenberg.fileids()]\n",
    "sw = stopwords.words('english')\n",
    "vec = TfidfVectorizer(max_features=500, stop_words=sw, min_df=3)\n",
    "X = vec.fit_transform(full_gutenberg)"
   ]
  },
  {
   "cell_type": "code",
   "execution_count": null,
   "metadata": {},
   "outputs": [],
   "source": [
    "keywords = []\n",
    "n_keywords = 5\n",
    "for doc in range(X.shape[0]): # para cada documento\n",
    "    print(\"Indexando documento \", doc)\n",
    "    wordlist = []\n",
    "    for word in vec.vocabulary_.keys(): # para cada palavra\n",
    "        word_idx = vec.vocabulary_[word]\n",
    "        if X[doc,word_idx] > 0:\n",
    "            wordlist.append( (X[doc,word_idx], word) )\n",
    "    wordlist = sorted(wordlist, reverse=True)\n",
    "    keywords.append(wordlist[0:n_keywords])\n"
   ]
  },
  {
   "cell_type": "code",
   "execution_count": null,
   "metadata": {},
   "outputs": [],
   "source": [
    "# Documentos e palavras-chave\n",
    "import re\n",
    "for doc in range(X.shape[0]):\n",
    "    print(re.split(r'[\\[\\]]', full_gutenberg[doc][0:50])[1])\n",
    "    print([k[1] for k in keywords[doc]])\n",
    "    print(\"------\")"
   ]
  },
  {
   "cell_type": "code",
   "execution_count": null,
   "metadata": {},
   "outputs": [],
   "source": [
    "from nltk.corpus import reuters\n",
    "nltk.download('reuters')\n",
    "reuters.fileids()\n",
    "full_reuters = [nltk.corpus.reuters.raw(f) for f in nltk.corpus.reuters.fileids()]\n",
    "print(full_reuters[0])"
   ]
  },
  {
   "cell_type": "code",
   "execution_count": null,
   "metadata": {},
   "outputs": [],
   "source": [
    "dir(reuters)"
   ]
  },
  {
   "cell_type": "code",
   "execution_count": null,
   "metadata": {},
   "outputs": [],
   "source": [
    "reuters.readme()"
   ]
  },
  {
   "cell_type": "code",
   "execution_count": null,
   "metadata": {},
   "outputs": [],
   "source": []
  }
 ],
 "metadata": {
  "interpreter": {
   "hash": "b3ba2566441a7c06988d0923437866b63cedc61552a5af99d1f4fb67d367b25f"
  },
  "kernelspec": {
   "display_name": "Python 3.9.7 64-bit ('base': conda)",
   "language": "python",
   "name": "python3"
  },
  "language_info": {
   "codemirror_mode": {
    "name": "ipython",
    "version": 3
   },
   "file_extension": ".py",
   "mimetype": "text/x-python",
   "name": "python",
   "nbconvert_exporter": "python",
   "pygments_lexer": "ipython3",
   "version": "3.9.7"
  },
  "orig_nbformat": 4
 },
 "nbformat": 4,
 "nbformat_minor": 2
}
