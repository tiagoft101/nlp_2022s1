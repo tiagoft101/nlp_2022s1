{
 "cells": [
  {
   "cell_type": "code",
   "execution_count": 1,
   "metadata": {},
   "outputs": [],
   "source": [
    "import matplotlib.pyplot as plt\n",
    "plt.style.use('default')\n",
    "import pandas as pd\n",
    "import numpy as np\n",
    "from sklearn.model_selection import train_test_split\n",
    "from sklearn.naive_bayes import BernoulliNB\n",
    "from sklearn.linear_model import LogisticRegression\n",
    "from sklearn.feature_extraction.text import CountVectorizer\n",
    "from sklearn.metrics import classification_report"
   ]
  },
  {
   "cell_type": "markdown",
   "metadata": {},
   "source": [
    "# Aula 13: Estudo de caso\n",
    "**Objetivo da aula:** ao fim desta aula o aluno terá proposto ideias para analisar e melhorar sistemas de detecção automática de *fake news*\n",
    "\n",
    "# Roteiro\n",
    "Nesta aula, usaremos técnicas de NLP para detectar automaticamente fake news em textos.\n",
    "\n",
    "## Dataset\n",
    "Nesta aula, trabalharemos com o dataset:\n",
    "\n",
    "https://www.kaggle.com/datasets/anmolkumar/fake-news-content-detection\n",
    "\n",
    "Enquanto você baixa o dataset (veja que ele já está separado em \"treino\" e \"teste\"!):\n",
    "1. O que significam as tags e as colunas do dataset?\n",
    "1. Seria possível agrupar rótulos do dataset, reduzindo o número de categorias?\n",
    "1. Quem rotulou o dataset? Qual foi o critério usado?\n",
    "1. Veja no próprio Kaggle outros trabalhos que já usaram os datasets. Que insights relevantes você consegue tirar deles?\n",
    "\n",
    "## Classificação\n",
    "1. Aplique os classificadores que você conhece neste problema de classificação.\n",
    "1. Avalie o desempenho dos classificadores\n",
    "1. Encontre uma explicação para os classificadores, isto é, verifique quais foram as palavras mais relevantes para sua classificação. Elas fazem sentido em relação ao problema? Por que?\n",
    "\n",
    "## Exploração de modelos\n",
    "1. Existem modificações que você poderia propor para o seu classificador usando outras técnicas de NLP (por exemplo: usar PoS Tagging, ontologias, lematização, stemming, etc.). Escolha uma modificação, aplique e avalie novamente os resultados.\n",
    "\n",
    "## Divulgação dos resultados\n",
    "1. Gere entre uma e cinco figuras mostrando compactamente seus achados. Lembre-se que as figuras devem ser auto-suficientes!\n",
    "1. Qual de seus achados é mais relevante para uma pessoa não-proficiente em NLP?\n",
    "1. Se sentir-se confortável, divulgue a figura em suas redes sociais, ou faça o upload de seu notebook para o Kaggle."
   ]
  },
  {
   "cell_type": "code",
   "execution_count": null,
   "metadata": {},
   "outputs": [],
   "source": []
  }
 ],
 "metadata": {
  "interpreter": {
   "hash": "b3ba2566441a7c06988d0923437866b63cedc61552a5af99d1f4fb67d367b25f"
  },
  "kernelspec": {
   "display_name": "Python 3.9.7 ('base')",
   "language": "python",
   "name": "python3"
  },
  "language_info": {
   "codemirror_mode": {
    "name": "ipython",
    "version": 3
   },
   "file_extension": ".py",
   "mimetype": "text/x-python",
   "name": "python",
   "nbconvert_exporter": "python",
   "pygments_lexer": "ipython3",
   "version": "3.9.7"
  },
  "orig_nbformat": 4
 },
 "nbformat": 4,
 "nbformat_minor": 2
}
